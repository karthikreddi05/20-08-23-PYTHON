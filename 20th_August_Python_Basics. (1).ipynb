{
 "cells": [
  {
   "cell_type": "code",
   "execution_count": 3,
   "id": "c0572756-d405-4666-b3d2-a54c2c9c9978",
   "metadata": {},
   "outputs": [
    {
     "data": {
      "text/plain": [
       "'sllikswP'"
      ]
     },
     "execution_count": 3,
     "metadata": {},
     "output_type": "execute_result"
    }
   ],
   "source": [
    "str = \"Pwskills\"\n",
    "str[::-1]"
   ]
  },
  {
   "cell_type": "code",
   "execution_count": 4,
   "id": "c561e9b2-370f-4d01-85ee-ec7e673e3e2f",
   "metadata": {},
   "outputs": [
    {
     "name": "stdout",
     "output_type": "stream",
     "text": [
      "Yes\n"
     ]
    }
   ],
   "source": [
    "def isPalindrome(s):\n",
    "\treturn s == s[::-1]\n",
    "\n",
    "\n",
    "s = \"malayalam\"\n",
    "ans = isPalindrome(s)\n",
    "\n",
    "if ans:\n",
    "\tprint(\"Yes\")\n",
    "else:\n",
    "\tprint(\"No\")"
   ]
  },
  {
   "cell_type": "code",
   "execution_count": 6,
   "id": "aaa06dbf-59a2-4da5-8777-7c5793f8b01d",
   "metadata": {},
   "outputs": [
    {
     "data": {
      "text/plain": [
       "'NAME'"
      ]
     },
     "execution_count": 6,
     "metadata": {},
     "output_type": "execute_result"
    }
   ],
   "source": [
    "str = \"name\"\n",
    "(str.upper())"
   ]
  },
  {
   "cell_type": "code",
   "execution_count": 7,
   "id": "b583b986-d553-4357-9a13-1b719f9e971e",
   "metadata": {},
   "outputs": [
    {
     "data": {
      "text/plain": [
       "'name'"
      ]
     },
     "execution_count": 7,
     "metadata": {},
     "output_type": "execute_result"
    }
   ],
   "source": [
    "str = \"NAME\"\n",
    "(str.lower())"
   ]
  },
  {
   "cell_type": "code",
   "execution_count": 8,
   "id": "dfbfde68-4953-4cd7-9f2d-be47599efa0f",
   "metadata": {},
   "outputs": [
    {
     "name": "stdout",
     "output_type": "stream",
     "text": [
      "1\n"
     ]
    }
   ],
   "source": [
    "def isVowel(ch):\n",
    "\treturn ch.upper() in ['A', 'E', 'I', 'O', 'U']\n",
    "def countVowels(str):\n",
    "\tcount = 0\n",
    "\tfor i in range(len(str)):\n",
    "\t\tif isVowel(str[i]):\n",
    "\t\t\tcount += 1\n",
    "\treturn count\n",
    "str = 'Pwskills'\n",
    "print(countVowels(str))"
   ]
  },
  {
   "cell_type": "code",
   "execution_count": 6,
   "id": "4ae2b421-b449-46dd-b697-367fdda30e12",
   "metadata": {},
   "outputs": [
    {
     "name": "stdout",
     "output_type": "stream",
     "text": [
      "7\n"
     ]
    }
   ],
   "source": [
    "def isConsonant(ch):\n",
    "\tch = ch.upper()\n",
    "\n",
    "\treturn not (ch == 'A' or ch == 'E' or\n",
    "\t\t\t\tch == 'I' or ch == 'O' or\n",
    "\t\t\t\tch == 'U') and ord(ch) >= 65 and ord(ch) <= 90\n",
    "\n",
    "def totalConsonants(string):\n",
    "\t\n",
    "\tcount = 0\n",
    "\t\n",
    "\tfor i in range(len(string)):\n",
    "\n",
    "\t\tif (isConsonant(string[i])):\n",
    "\t\t\tcount += 1\n",
    "\t\t\t\n",
    "\treturn count\n",
    "\n",
    "string = \"Pwskills\"\n",
    "print(totalConsonants(string))\n"
   ]
  },
  {
   "cell_type": "code",
   "execution_count": 10,
   "id": "c4ff82dc-0fac-47ce-bb57-25e589ee74a1",
   "metadata": {},
   "outputs": [
    {
     "name": "stdout",
     "output_type": "stream",
     "text": [
      "Pwskills\n"
     ]
    }
   ],
   "source": [
    "def remove(string):\n",
    "\treturn string.replace(\" \", \"\")\n",
    "\n",
    "\n",
    "# Driver Program\n",
    "string = ' P w s k i l l s '\n",
    "print(remove(string))"
   ]
  },
  {
   "cell_type": "code",
   "execution_count": 11,
   "id": "463a92a0-de9f-4a79-84a9-6e94b155f175",
   "metadata": {},
   "outputs": [
    {
     "name": "stdout",
     "output_type": "stream",
     "text": [
      "8\n"
     ]
    }
   ],
   "source": [
    "def findLen(str):\n",
    "\tcounter = 0\n",
    "\twhile str[counter:]:\n",
    "\t\tcounter += 1\n",
    "\treturn counter\n",
    "\n",
    "str = \"Pwskills\"\n",
    "print(findLen(str))"
   ]
  },
  {
   "cell_type": "code",
   "execution_count": 1,
   "id": "0f955237-019f-4373-aa49-d77c58616ea1",
   "metadata": {},
   "outputs": [
    {
     "name": "stdout",
     "output_type": "stream",
     "text": [
      "b is not greater than a\n"
     ]
    }
   ],
   "source": [
    "a = 200\n",
    "b = 33\n",
    "\n",
    "if b > a:\n",
    "  print(\"b is greater than a\")\n",
    "else:\n",
    "  print(\"b is not greater than a\")"
   ]
  },
  {
   "cell_type": "code",
   "execution_count": 2,
   "id": "48891685-37d1-4846-b52f-84ac43779a67",
   "metadata": {},
   "outputs": [
    {
     "name": "stdout",
     "output_type": "stream",
     "text": [
      "I like apples\n"
     ]
    }
   ],
   "source": [
    "txt = \"I like bananas\"\n",
    "\n",
    "x = txt.replace(\"bananas\", \"apples\")\n",
    "\n",
    "print(x)"
   ]
  },
  {
   "cell_type": "code",
   "execution_count": 14,
   "id": "016241e4-4a31-4eec-a574-5d6b35dfa659",
   "metadata": {},
   "outputs": [
    {
     "name": "stdout",
     "output_type": "stream",
     "text": [
      "1\n"
     ]
    }
   ],
   "source": [
    "def countOccurrences(str, word):\n",
    "\n",
    "\twordslist = list(str.split())\n",
    "\treturn wordslist.count(word)\n",
    "\n",
    "str = \"we are completed python basics in PWSKILLS\"\n",
    "word = \"python\"\n",
    "print(countOccurrences(str, word))"
   ]
  },
  {
   "cell_type": "code",
   "execution_count": 4,
   "id": "987d8e76-2276-4476-ac81-6d49c6279294",
   "metadata": {},
   "outputs": [
    {
     "name": "stdout",
     "output_type": "stream",
     "text": [
      "['welcome', 'to', 'Pwskills']\n"
     ]
    }
   ],
   "source": [
    "txt = \"welcome to Pwskills\"\n",
    "\n",
    "x = txt.split()\n",
    "\n",
    "print(x)"
   ]
  },
  {
   "cell_type": "code",
   "execution_count": 5,
   "id": "f6e18431-36ce-418a-97f6-7cacf5efe6ef",
   "metadata": {},
   "outputs": [
    {
     "name": "stdout",
     "output_type": "stream",
     "text": [
      "P-w-s-k-i-l-l-s\n"
     ]
    }
   ],
   "source": [
    "str = '-'.join('Pwskills')\n",
    "print(str)"
   ]
  },
  {
   "cell_type": "code",
   "execution_count": 7,
   "id": "cd3e3e66-8e9f-4135-aa44-c6ae87bebc84",
   "metadata": {},
   "outputs": [
    {
     "name": "stdout",
     "output_type": "stream",
     "text": [
      "True\n"
     ]
    }
   ],
   "source": [
    "txt = \"Hello, welcome to my world.\"\n",
    "\n",
    "x = txt.startswith(\"Hello\")\n",
    "\n",
    "print(x)"
   ]
  },
  {
   "cell_type": "code",
   "execution_count": 12,
   "id": "d584d707-b9b2-4c9c-a2b4-1b471163fe8b",
   "metadata": {},
   "outputs": [
    {
     "name": "stdout",
     "output_type": "stream",
     "text": [
      "False\n"
     ]
    }
   ],
   "source": [
    "txt = \"Hello, welcome to my world.\"\n",
    "\n",
    "x = txt.endswith(\"Hello\")\n",
    "\n",
    "print(x)"
   ]
  },
  {
   "cell_type": "code",
   "execution_count": 15,
   "id": "e22837ab-02ef-4d98-bfea-18f7e89da52e",
   "metadata": {},
   "outputs": [
    {
     "name": "stdout",
     "output_type": "stream",
     "text": [
      "i_got_intern_at_pwskills\n"
     ]
    }
   ],
   "source": [
    "def convert(string) :\n",
    "\n",
    "\tn = len(string);\n",
    "\tstring = list(string);\n",
    "\t\n",
    "\tfor i in range(n) :\n",
    "\t\n",
    "\t\tif (string[i] == ' ') :\n",
    "\t\t\tstring[i] = '_';\n",
    "\t\telse :\n",
    "\t\t\n",
    "\t\t\tstring[i] = string[i].lower();\n",
    "\t\n",
    "\tstring = \"\".join(string)\n",
    "\tprint(string);\n",
    "\n",
    "if __name__ == \"__main__\" :\n",
    "\n",
    "\tstring = \"I got intern at Pwskills\";\n",
    "\t\t\n",
    "convert(string);"
   ]
  },
  {
   "cell_type": "code",
   "execution_count": 1,
   "id": "4a2a41d0-521a-4736-8e23-83f3f7c35248",
   "metadata": {},
   "outputs": [
    {
     "name": "stdout",
     "output_type": "stream",
     "text": [
      "Hello World\n"
     ]
    }
   ],
   "source": [
    "str = \"hello world\"\n",
    "print(str. title())"
   ]
  },
  {
   "cell_type": "code",
   "execution_count": 2,
   "id": "5d7e587d-c69a-4e1b-8fc8-f43d1d49ad12",
   "metadata": {},
   "outputs": [
    {
     "name": "stdout",
     "output_type": "stream",
     "text": [
      "sllikswP\n"
     ]
    }
   ],
   "source": [
    "str = \"Pwskills\"\n",
    "print(str[::-1])"
   ]
  },
  {
   "cell_type": "code",
   "execution_count": 12,
   "id": "bfede092-4cde-4dbc-bffe-b0dbbdd41c29",
   "metadata": {},
   "outputs": [
    {
     "name": "stdout",
     "output_type": "stream",
     "text": [
      "False\n"
     ]
    }
   ],
   "source": [
    "str = \"Pwskills?\"\n",
    "x = str.isalnum()\n",
    "print(x)"
   ]
  },
  {
   "cell_type": "code",
   "execution_count": 16,
   "id": "669a53ac-c817-4fc9-a944-c4abd12fe467",
   "metadata": {},
   "outputs": [
    {
     "name": "stdout",
     "output_type": "stream",
     "text": [
      "confident\n"
     ]
    }
   ],
   "source": [
    "def largestWord(s):\n",
    "\ts = sorted(s, key = len)\n",
    "\tprint(s[-1])\n",
    "if __name__ == \"__main__\":\n",
    "\ts = \"be confident and be yourself\"\n",
    "\tl = list(s.split(\" \"))\n",
    "\tlargestWord(l)"
   ]
  },
  {
   "cell_type": "code",
   "execution_count": 18,
   "id": "1561eb48-8980-47e3-91d6-830156f212ab",
   "metadata": {},
   "outputs": [
    {
     "name": "stdout",
     "output_type": "stream",
     "text": [
      "be\n"
     ]
    }
   ],
   "source": [
    "def smallestWord(s):\n",
    "\ts = sorted(s, key = len)\n",
    "\tprint(s[0])\n",
    "if __name__ == \"__main__\":\n",
    "\ts = \"be confident and be yourself\"\n",
    "\n",
    "\tl = list(s.split(\" \"))\n",
    "\n",
    "\tsmallestWord(l)"
   ]
  },
  {
   "cell_type": "code",
   "execution_count": 13,
   "id": "a249720c-b2d9-4072-9f86-60261a580dc8",
   "metadata": {},
   "outputs": [
    {
     "name": "stdout",
     "output_type": "stream",
     "text": [
      "False\n"
     ]
    }
   ],
   "source": [
    "txt = \"Pwsills?\"\n",
    "x = txt.isalnum()\n",
    "print(x)"
   ]
  },
  {
   "cell_type": "code",
   "execution_count": 3,
   "id": "a6f17716-e80f-4ce9-9fd8-c897a38517c1",
   "metadata": {},
   "outputs": [
    {
     "name": "stdout",
     "output_type": "stream",
     "text": [
      "The original string : There are 2 apples for 4 persons\n",
      "The numbers list is : [2, 4]\n"
     ]
    }
   ],
   "source": [
    "test_string = \"There are 2 apples for 4 persons\"\n",
    "print(\"The original string : \" + test_string)\n",
    "res = list(filter(lambda x: x.isdigit(), test_string.split()))\n",
    "res = [int(s) for s in res]\n",
    "print(\"The numbers list is : \" + str(res))"
   ]
  },
  {
   "cell_type": "code",
   "execution_count": 4,
   "id": "81ff8732-f09c-4446-89a6-3eeb2aa40567",
   "metadata": {},
   "outputs": [
    {
     "name": "stdout",
     "output_type": "stream",
     "text": [
      "initial string :  123()#$ABGFDabcjw abceddfgh\n",
      "first string result:    A B G F D a b c j w \n",
      "second string result:   a b c e d d f g h \n"
     ]
    }
   ],
   "source": [
    "import re\n",
    "\n",
    "ini_string = \"123()#$ABGFDabcjw\"\n",
    "ini_string2 = \"abceddfgh\"\n",
    "\n",
    "print (\"initial string : \", ini_string, ini_string2)\n",
    "\n",
    "res1 = \" \".join(re.split(\"[^a-zA-Z]*\", ini_string))\n",
    "res2 = \" \".join(re.split(\"[^a-zA-Z]*\", ini_string2))\n",
    "\n",
    "print (\"first string result: \", str(res1))\n",
    "print (\"second string result: \", str(res2))"
   ]
  },
  {
   "cell_type": "code",
   "execution_count": 5,
   "id": "8942e1d6-19af-4414-9752-229f2e293623",
   "metadata": {},
   "outputs": [
    {
     "name": "stdout",
     "output_type": "stream",
     "text": [
      "Upper case letters: 8\n",
      "Lower case letters: 9\n",
      "Number: 4\n",
      "Special characters: 1\n"
     ]
    }
   ],
   "source": [
    "def Count(str):\n",
    "\tupper, lower, number, special = 0, 0, 0, 0\n",
    "\tfor i in range(len(str)):\n",
    "\t\tif str[i].isupper():\n",
    "\t\t\tupper += 1\n",
    "\t\telif str[i].islower():\n",
    "\t\t\tlower += 1\n",
    "\t\telif str[i].isdigit():\n",
    "\t\t\tnumber += 1\n",
    "\t\telse:\n",
    "\t\t\tspecial += 1\n",
    "\tprint('Upper case letters:', upper)\n",
    "\tprint('Lower case letters:', lower)\n",
    "\tprint('Number:', number)\n",
    "\tprint('Special characters:', special)\n",
    "\n",
    "str = \"Pwsills01fOr@PwSILLS07\"\n",
    "Count(str)\n"
   ]
  },
  {
   "cell_type": "code",
   "execution_count": 20,
   "id": "7d18b317-53f7-4051-9fa6-b0b9f456fea7",
   "metadata": {},
   "outputs": [
    {
     "name": "stdout",
     "output_type": "stream",
     "text": [
      "pwSKIlls\n",
      "PWSKILLS\n",
      "pwskills\n"
     ]
    }
   ],
   "source": [
    "string = \"PWskiLLS\"\n",
    "\n",
    "print(string.swapcase())\n",
    "\n",
    "string = \"pwskills\"\n",
    "print(string.swapcase())\n",
    "\n",
    "string = \"PWSKILLS\"\n",
    "print(string.swapcase())"
   ]
  },
  {
   "cell_type": "code",
   "execution_count": 21,
   "id": "3df6266f-2909-497a-b16e-a229b79b9b82",
   "metadata": {},
   "outputs": [
    {
     "name": "stdout",
     "output_type": "stream",
     "text": [
      "Valid Email\n"
     ]
    }
   ],
   "source": [
    "import re\n",
    "regex = r'\\b[A-Za-z0-9._%+-]+@[A-Za-z0-9.-]+\\.[A-Z|a-z]{2,7}\\b'\n",
    "def check(email):\n",
    "\tif(re.fullmatch(regex, email)):\n",
    "\t\tprint(\"Valid Email\")\n",
    "\telse:\n",
    "\t\tprint(\"Invalid Email\")\n",
    "if __name__ == '__main__':\n",
    "\temail = \"pwskills@gmail.com\"\n",
    "\tcheck(email)"
   ]
  },
  {
   "cell_type": "code",
   "execution_count": 30,
   "id": "0150d7a8-f841-4358-ab61-d156b7d9f71d",
   "metadata": {},
   "outputs": [
    {
     "name": "stdout",
     "output_type": "stream",
     "text": [
      "The original string is : Karthik@pwskills.com\n",
      "The extracted domain name : pwskills.com\n"
     ]
    }
   ],
   "source": [
    "test_str = 'Karthik@pwskills.com'\n",
    "print(\"The original string is : \" + (test_str))\n",
    "res = test_str[test_str.index('@') + 1 : ]\n",
    "print(\"The extracted domain name : \" + (res))"
   ]
  },
  {
   "cell_type": "code",
   "execution_count": 1,
   "id": "91c8f84d-a070-4813-be8b-f84eb7144c6b",
   "metadata": {},
   "outputs": [
    {
     "name": "stdout",
     "output_type": "stream",
     "text": [
      "The original string is : karthik@Pwskills.com\n",
      "The extracted domain name : Pwskills.com\n"
     ]
    }
   ],
   "source": [
    "test_str = \"karthik@Pwskills.com\"\n",
    "print(\"The original string is : \" + str(test_str))\n",
    "res = test_str[test_str.index('@') + 1 : ]\n",
    "print(\"The extracted domain name : \" + str(res))"
   ]
  },
  {
   "cell_type": "code",
   "execution_count": 2,
   "id": "0f66b87e-6fc1-4b11-8f2d-eb2454567e46",
   "metadata": {},
   "outputs": [
    {
     "name": "stdout",
     "output_type": "stream",
     "text": [
      "I am in pwskills course\n"
     ]
    }
   ],
   "source": [
    "import re\n",
    "s = \"I  am      in pwskills course\"\n",
    "s = re.sub(\" +\", \" \", s)\n",
    "print(s)"
   ]
  },
  {
   "cell_type": "code",
   "execution_count": 3,
   "id": "db532252-14d4-450f-a9d5-d24c1d91b850",
   "metadata": {},
   "outputs": [
    {
     "name": "stdout",
     "output_type": "stream",
     "text": [
      "Urls:  ['https://pwskills.com/']\n"
     ]
    }
   ],
   "source": [
    "def Find(string):\n",
    "\tx=string.split()\n",
    "\tres=[]\n",
    "\tfor i in x:\n",
    "\t\tif i.startswith(\"https:\") or i.startswith(\"http:\"):\n",
    "\t\t\tres.append(i)\n",
    "\treturn res\n",
    "\t\t\t\n",
    "string = 'https://pwskills.com/'\n",
    "print(\"Urls: \", Find(string))"
   ]
  },
  {
   "cell_type": "code",
   "execution_count": 4,
   "id": "3e5888b5-84b5-4db6-abf2-61fe93d11f05",
   "metadata": {},
   "outputs": [
    {
     "name": "stdout",
     "output_type": "stream",
     "text": [
      "Count of all characters in Pwskills is :\n",
      " {'P': 1, 'w': 1, 's': 2, 'k': 1, 'i': 1, 'l': 2}\n"
     ]
    }
   ],
   "source": [
    "test_str = \"Pwskills\"\n",
    "all_freq = {}\n",
    "for i in test_str:\n",
    "\tif i in all_freq:\n",
    "\t\tall_freq[i] += 1\n",
    "\telse:\n",
    "\t\tall_freq[i] = 1\n",
    "print(\"Count of all characters in Pwskills is :\\n \"\n",
    "\t+ str(all_freq))"
   ]
  },
  {
   "cell_type": "code",
   "execution_count": 5,
   "id": "ce7ed681-dc07-4954-bbbc-422d4f220a72",
   "metadata": {},
   "outputs": [
    {
     "name": "stdout",
     "output_type": "stream",
     "text": [
      "The original string is : hello, is it : worth ! pwskills for there price ;\n",
      "The string after punctuation filter : hello is it  worth  pwskills for there price \n"
     ]
    }
   ],
   "source": [
    "test_str = \"hello, is it : worth ! pwskills for there price ;\"\n",
    "print(\"The original string is : \" + test_str)\n",
    "punc = '''!()-[]{};:'\"\\,<>./?@#$%^&*_~'''\n",
    "for ele in test_str:\n",
    "\tif ele in punc:\n",
    "\t\ttest_str = test_str.replace(ele, \"\")\n",
    "print(\"The string after punctuation filter : \" + test_str)"
   ]
  },
  {
   "cell_type": "code",
   "execution_count": 6,
   "id": "3fdd4dee-0297-4806-a0f6-b027d5de4908",
   "metadata": {},
   "outputs": [
    {
     "name": "stdout",
     "output_type": "stream",
     "text": [
      "Initial Strings :  1234556 ab123bc\n",
      "String1 contains all numbers\n",
      "String2 doesn't contains all numbers\n"
     ]
    }
   ],
   "source": [
    "ini_string1 = '1234556'\n",
    "ini_string2 = 'ab123bc'\n",
    "\n",
    "print(\"Initial Strings : \", ini_string1, ini_string2)\n",
    "\n",
    "if ini_string1.isdigit():\n",
    "\tprint(\"String1 contains all numbers\")\n",
    "else:\n",
    "\tprint(\"String1 doesn't contains all numbers\")\n",
    "\n",
    "if ini_string2.isdigit():\n",
    "\tprint(\"String2 contains all numbers\")\n",
    "else:\n",
    "\tprint(\"String2 doesn't contains all numbers\")"
   ]
  },
  {
   "cell_type": "code",
   "execution_count": 7,
   "id": "b31b96c1-cd0f-4467-937d-691496aaf679",
   "metadata": {},
   "outputs": [
    {
     "name": "stdout",
     "output_type": "stream",
     "text": [
      "Initial String pwskills\n",
      "String contains only letters\n"
     ]
    }
   ],
   "source": [
    "ini_str = \"pwskills\"\n",
    "print (\"Initial String\", ini_str)\n",
    "if ini_str.isalpha():\n",
    "\tprint(\"String contains only letters\")\n",
    "else:\n",
    "\tprint(\"String doesn't contains only letters\")"
   ]
  },
  {
   "cell_type": "code",
   "execution_count": 8,
   "id": "af876941-76a2-47c6-868e-f5caf190679d",
   "metadata": {},
   "outputs": [
    {
     "name": "stdout",
     "output_type": "stream",
     "text": [
      "['P', 'w', 's', 'k', 'i', 'l', 'l', 's']\n"
     ]
    }
   ],
   "source": [
    "string = \"Pwskills\"\n",
    "print([*string])"
   ]
  },
  {
   "cell_type": "code",
   "execution_count": 9,
   "id": "4dcc5908-0319-4cb6-a030-549493e2422d",
   "metadata": {},
   "outputs": [
    {
     "name": "stdout",
     "output_type": "stream",
     "text": [
      "The strings are anagrams.\n"
     ]
    }
   ],
   "source": [
    "def check(s1, s2):\n",
    "\tif(sorted(s1)== sorted(s2)):\n",
    "\t\tprint(\"The strings are anagrams.\")\n",
    "\telse:\n",
    "\t\tprint(\"The strings aren't anagrams.\")\t\t\n",
    "s1 =\"listen\"\n",
    "s2 =\"silent\"\n",
    "check(s1, s2)"
   ]
  },
  {
   "cell_type": "code",
   "execution_count": 10,
   "id": "3fc3f6f0-3278-449c-bedd-79cf0db9d81b",
   "metadata": {},
   "outputs": [
    {
     "name": "stdout",
     "output_type": "stream",
     "text": [
      "Text : PWSKILLS\n",
      "Shift : 4\n",
      "Cipher: TAWOMPPW\n"
     ]
    }
   ],
   "source": [
    "def encrypt(text,s):\n",
    "\tresult = \"\"\n",
    "\tfor i in range(len(text)):\n",
    "\t\tchar = text[i]\n",
    "\t\tif (char.isupper()):\n",
    "\t\t\tresult += chr((ord(char) + s-65) % 26 + 65)\n",
    "\t\telse:\n",
    "\t\t\tresult += chr((ord(char) + s - 97) % 26 + 97)\n",
    "\n",
    "\treturn result\n",
    "text = \"PWSKILLS\"\n",
    "s = 4\n",
    "print (\"Text : \" + text)\n",
    "print (\"Shift : \" + str(s))\n",
    "print (\"Cipher: \" + encrypt(text,s))"
   ]
  },
  {
   "cell_type": "code",
   "execution_count": 11,
   "id": "8ce8bae6-5a49-4936-9a11-9e8c594f636b",
   "metadata": {},
   "outputs": [
    {
     "name": "stdout",
     "output_type": "stream",
     "text": [
      "Java\n",
      "Python\n",
      "also\n"
     ]
    }
   ],
   "source": [
    "import re\n",
    "dict = {}\n",
    "def uniqueWord(Word):\n",
    "\tif Word in dict:\n",
    "\t\tdict[words] += 1\n",
    "\telse:\n",
    "\t\tdict.update({words: 1})\n",
    "if __name__ == '__main__':\n",
    "\tstring = \"Java is great. Python is also great\"\n",
    "\tListOfWords = re.split(\"[\\W]+\", string)\n",
    "\tfor words in ListOfWords:\n",
    "\t\tuniqueWord(words)\n",
    "\tfor elements in dict:\n",
    "\t\tif dict[elements] == 1:\n",
    "\t\t\tprint(elements)"
   ]
  },
  {
   "cell_type": "code",
   "execution_count": 12,
   "id": "12c21388-df52-4b26-90da-362f1660f501",
   "metadata": {},
   "outputs": [
    {
     "name": "stdout",
     "output_type": "stream",
     "text": [
      "String is not accepted.\n"
     ]
    }
   ],
   "source": [
    "import re\n",
    "def run(string):\n",
    "\tregex = re.compile('[@_!#$%^&*()<>?/\\|}{~:]')\n",
    "\tif(regex.search(string) == None):\n",
    "\t\tprint(\"String is accepted\")\n",
    "\telse:\n",
    "\t\tprint(\"String is not accepted.\")\n",
    "if __name__ == '__main__' :\n",
    "\tstring = \"pw$skills$\"\n",
    "\trun(string)"
   ]
  },
  {
   "cell_type": "code",
   "execution_count": 13,
   "id": "3d9add87-d9a1-43b1-81ed-3cb2733cb781",
   "metadata": {},
   "outputs": [
    {
     "name": "stdout",
     "output_type": "stream",
     "text": [
      "New list is : ['he', 'is', 'karthik', 'is', 'reddy', 'is', 'karthik reddy']\n"
     ]
    }
   ],
   "source": [
    "def remove_word(list1, word, n1):\n",
    "\tdef generator():\n",
    "\t\tcount = 0\n",
    "\t\tfor i in list1:\n",
    "\t\t\tif i != word or (i == word and count != n1):\n",
    "\t\t\t\tyield i\n",
    "\t\t\tif i == word:\n",
    "\t\t\t\tcount += 1\n",
    "\treturn list(generator())\n",
    "list1 = [\"he\", \"is\", \"karthik\", \"is\", \"reddy\", \"is\", \"karthik reddy\"]\n",
    "word = \"is\"\n",
    "n1 = 3\n",
    "\n",
    "print(\"New list is :\", remove_word(list1, word, n1))"
   ]
  },
  {
   "cell_type": "code",
   "execution_count": 14,
   "id": "51c04dbf-04fc-4f78-84dc-68612538a3c5",
   "metadata": {},
   "outputs": [
    {
     "name": "stdout",
     "output_type": "stream",
     "text": [
      "The original string : pskills\n",
      "The add string : w\n",
      "The string after performing addition : pwskills\n"
     ]
    }
   ],
   "source": [
    "test_string = 'pskills'\n",
    "add_string = \"w\"\n",
    "print(\"The original string : \" + test_string)\n",
    "print(\"The add string : \" + add_string)\n",
    "N = 1\n",
    "res = test_string[ : N] + add_string + test_string[N : ]\n",
    "print(\"The string after performing addition : \" + str(res))"
   ]
  },
  {
   "cell_type": "code",
   "execution_count": 15,
   "id": "fc2d4371-899d-45a3-83d7-26b946f0bcfb",
   "metadata": {},
   "outputs": [
    {
     "name": "stdout",
     "output_type": "stream",
     "text": [
      "        series  episodes        actors\n",
      "0      Friends       200   David Crane\n",
      "1  Money Heist        50        Alvaro\n",
      "2       Marvel        45      Stan Lee\n"
     ]
    }
   ],
   "source": [
    "import pandas as pd\n",
    "dict = {\n",
    "\t'series'  : ['Friends', 'Money Heist', 'Marvel'],\n",
    "\t'episodes': [ 200,50,45],\n",
    "\t'actors'  : [' David Crane',  'Alvaro',  'Stan Lee']\n",
    "}\n",
    "df = pd.DataFrame(dict)\n",
    "print(df)"
   ]
  },
  {
   "cell_type": "code",
   "execution_count": 6,
   "id": "48e35497-15fd-42a4-bfea-af390e5ec960",
   "metadata": {},
   "outputs": [
    {
     "name": "stdout",
     "output_type": "stream",
     "text": [
      "[1, 2, 3, 4, 5, 7, 8, 9, 10]\n"
     ]
    }
   ],
   "source": [
    "a = [1,2,3,4,5,7,8,9,10]\n",
    "print(a)"
   ]
  },
  {
   "cell_type": "code",
   "execution_count": 7,
   "id": "9792cd66-1265-4424-bae5-0f8ad0f81ffa",
   "metadata": {},
   "outputs": [
    {
     "name": "stdout",
     "output_type": "stream",
     "text": [
      "5\n"
     ]
    }
   ],
   "source": [
    "string = 'Hello'\n",
    "count = 0\n",
    "for i in string:\n",
    "    count+=1\n",
    "print(count)"
   ]
  },
  {
   "cell_type": "code",
   "execution_count": 8,
   "id": "71aace44-d796-40a1-b4dc-47cad280fd38",
   "metadata": {},
   "outputs": [
    {
     "name": "stdout",
     "output_type": "stream",
     "text": [
      "['p', 'w', 'skills']\n"
     ]
    }
   ],
   "source": [
    "list = ['p', 'w']\n",
    "list.append('skills')\n",
    "print (list)"
   ]
  },
  {
   "cell_type": "code",
   "execution_count": 9,
   "id": "530d4256-0647-4c82-bb67-67a138dbd6e3",
   "metadata": {},
   "outputs": [
    {
     "name": "stdout",
     "output_type": "stream",
     "text": [
      "[1, 2, 3, 4, 10, 5, 6, 7]\n"
     ]
    }
   ],
   "source": [
    "list1 = [ 1, 2, 3, 4, 5, 6, 7 ]\n",
    "list1.insert(4, 10)\n",
    "print(list1)"
   ]
  },
  {
   "cell_type": "code",
   "execution_count": 1,
   "id": "a1af4d04-9bfb-436b-a1c0-2270a99a6326",
   "metadata": {},
   "outputs": [
    {
     "name": "stdout",
     "output_type": "stream",
     "text": [
      "Original List is : ['Iris', 'Orchids', 'Rose', 'Lavender', 'Lily', 'Carnations']\n",
      "After deleting the item : ['Iris', 'Rose', 'Lavender', 'Lily', 'Carnations']\n"
     ]
    }
   ],
   "source": [
    "lst = ['Iris', 'Orchids', 'Rose', 'Lavender',\n",
    "\t'Lily', 'Carnations']\n",
    "print(\"Original List is :\", lst)\n",
    "lst.remove('Orchids')\n",
    "print(\"After deleting the item :\", lst)"
   ]
  },
  {
   "cell_type": "code",
   "execution_count": 2,
   "id": "b2a7f743-3567-4587-a2bd-a9037a3a9dc5",
   "metadata": {},
   "outputs": [
    {
     "name": "stdout",
     "output_type": "stream",
     "text": [
      "[5, 3, 7, 8, 1, 2, 10]\n"
     ]
    }
   ],
   "source": [
    "list = [5, 6, 3, 7, 8, 1, 2, 10]\n",
    "list.pop(1)\n",
    "print(list)"
   ]
  },
  {
   "cell_type": "code",
   "execution_count": 3,
   "id": "26a4d8f1-1714-426e-832d-977fea7fb689",
   "metadata": {},
   "outputs": [
    {
     "name": "stdout",
     "output_type": "stream",
     "text": [
      "exist\n"
     ]
    }
   ],
   "source": [
    "lst=[ 1, 6, 3, 5, 3, 4 ]\n",
    "i=6\n",
    "if i in lst:\n",
    "\tprint(\"exist\")\n",
    "else:\n",
    "\tprint(\"not exist\")"
   ]
  },
  {
   "cell_type": "code",
   "execution_count": 4,
   "id": "1f4f897c-a02e-41b5-b741-51f307ee38b6",
   "metadata": {},
   "outputs": [
    {
     "name": "stdout",
     "output_type": "stream",
     "text": [
      "1\n"
     ]
    }
   ],
   "source": [
    "list1 = ['cat', 'bat', 'mat', 'cat', 'pet']\n",
    "print(list1.index('bat'))"
   ]
  },
  {
   "cell_type": "code",
   "execution_count": 5,
   "id": "6f18fe1b-fd69-4f9d-ac37-5c6d28eea895",
   "metadata": {},
   "outputs": [
    {
     "name": "stdout",
     "output_type": "stream",
     "text": [
      "8 has occurred 5 times\n"
     ]
    }
   ],
   "source": [
    "def countX(lst, x):\n",
    "\tcount = 0\n",
    "\tfor ele in lst:\n",
    "\t\tif (ele == x):\n",
    "\t\t\tcount = count + 1\n",
    "\treturn count\n",
    "lst = [8, 6, 8, 10, 8, 20, 10, 8, 8]\n",
    "x = 8\n",
    "print('{} has occurred {} times'.format(x,\n",
    "\t\t\t\t\t\t\t\t\t\tcountX(lst, x)))"
   ]
  },
  {
   "cell_type": "code",
   "execution_count": 9,
   "id": "ed563de8-1313-4ca4-ae7f-59c1a2892ade",
   "metadata": {},
   "outputs": [
    {
     "name": "stdout",
     "output_type": "stream",
     "text": [
      "[10, 9, 8, 7, 6, 5, 4, 3, 2, 1]\n"
     ]
    }
   ],
   "source": [
    "list = [1,2,3,4,5,6,7,8,9,10]\n",
    "print(list[::-1])"
   ]
  },
  {
   "cell_type": "code",
   "execution_count": 10,
   "id": "8599c278-e2e6-4313-ba23-ee9b12df92d5",
   "metadata": {},
   "outputs": [
    {
     "name": "stdout",
     "output_type": "stream",
     "text": [
      "None\n",
      "[1, 2, 3, 4]\n"
     ]
    }
   ],
   "source": [
    "numbers = [1, 3, 4, 2]\n",
    "print(numbers.sort())\n",
    "print(numbers)"
   ]
  },
  {
   "cell_type": "code",
   "execution_count": 11,
   "id": "eac61fe7-6f57-45f3-86ed-5a96ec946eb0",
   "metadata": {},
   "outputs": [
    {
     "name": "stdout",
     "output_type": "stream",
     "text": [
      "[4, 3, 2, 1]\n"
     ]
    }
   ],
   "source": [
    "numbers = [1, 3, 4, 2]\n",
    "numbers.sort(reverse=True)\n",
    "print(numbers)"
   ]
  },
  {
   "cell_type": "code",
   "execution_count": 14,
   "id": "f2613db3-ad76-4cd7-b451-4237f23ee32a",
   "metadata": {},
   "outputs": [
    {
     "name": "stdout",
     "output_type": "stream",
     "text": [
      "[2, 4, 6, 8, 10, 12, 14, 16, 18, 20]\n"
     ]
    }
   ],
   "source": [
    "list1 = [2,4,6,8,10,12,14,16,18,20]\n",
    "even_nos = (list1)\n",
    "print (even_nos)"
   ]
  },
  {
   "cell_type": "code",
   "execution_count": 16,
   "id": "6d1738a1-4f08-4399-a911-5a16c6aa6167",
   "metadata": {},
   "outputs": [
    {
     "name": "stdout",
     "output_type": "stream",
     "text": [
      "[1, 3, 5, 7, 9, 11, 13, 15, 17, 19]\n"
     ]
    }
   ],
   "source": [
    "list1 = [1,3,5,7,9,11,13,15,17,19]\n",
    "odd_nos = (list1)\n",
    "print (odd_nos)"
   ]
  },
  {
   "cell_type": "code",
   "execution_count": 20,
   "id": "e7d3e5ad-3d1a-43d5-b6a6-bf67b84535c5",
   "metadata": {},
   "outputs": [
    {
     "name": "stdout",
     "output_type": "stream",
     "text": [
      "15\n"
     ]
    }
   ],
   "source": [
    "total = 0\n",
    "ele = 0\n",
    "list1 = [1,2,3,4,5,]\n",
    "while(ele < len(list1)):\n",
    "\ttotal = total + list1[ele]\n",
    "\tele += 1\n",
    "print (total)"
   ]
  },
  {
   "cell_type": "code",
   "execution_count": 21,
   "id": "ae3911d7-3fcc-4fd2-aa72-531422c312cc",
   "metadata": {},
   "outputs": [
    {
     "name": "stdout",
     "output_type": "stream",
     "text": [
      "8\n"
     ]
    }
   ],
   "source": [
    "list1 = [4, -4, 8, -9, 1]\n",
    "maxValue = max(list1)\n",
    "print(maxValue)"
   ]
  },
  {
   "cell_type": "code",
   "execution_count": 22,
   "id": "3ffa3143-9883-4e2f-adaf-16bc9b11a6f4",
   "metadata": {},
   "outputs": [
    {
     "name": "stdout",
     "output_type": "stream",
     "text": [
      "-9\n"
     ]
    }
   ],
   "source": [
    "list1 = [4, -4, 8, -9, 1]\n",
    "maxValue = min(list1)\n",
    "print(maxValue)"
   ]
  },
  {
   "cell_type": "code",
   "execution_count": 23,
   "id": "b9c304d9-0038-45df-8414-588cc40ab995",
   "metadata": {},
   "outputs": [
    {
     "name": "stdout",
     "output_type": "stream",
     "text": [
      "[9, 7, 6, 6, 3, 7, 8, 9, 6, 8]\n"
     ]
    }
   ],
   "source": [
    "import random\n",
    "rand_list=[]\n",
    "n=10\n",
    "for i in range(n):\n",
    "\trand_list.append(random.randint(3,9))\n",
    "print(rand_list)"
   ]
  },
  {
   "cell_type": "code",
   "execution_count": 25,
   "id": "0b4a8d5b-84b7-4bc3-b6d6-e865152d3bef",
   "metadata": {},
   "outputs": [
    {
     "name": "stdout",
     "output_type": "stream",
     "text": [
      "The original list is : [1, 5, 3, 6, 3, 5, 6, 1]\n",
      "The list after removing duplicates : [1, 5, 3, 6, 3, 5, 6, 1]\n"
     ]
    }
   ],
   "source": [
    "test_list = [1, 5, 3, 6, 3, 5, 6, 1]\n",
    "print (\"The original list is : \"\n",
    "\t\t+ str(test_list))\n",
    "print (\"The list after removing duplicates : \"\n",
    "\t\t+ str(test_list))"
   ]
  },
  {
   "cell_type": "code",
   "execution_count": 26,
   "id": "fa81399b-948a-4420-9e0e-7122578acf0e",
   "metadata": {},
   "outputs": [
    {
     "name": "stdout",
     "output_type": "stream",
     "text": [
      "{5}\n"
     ]
    }
   ],
   "source": [
    "def common_member(a, b):\n",
    "\ta_set = set(a)\n",
    "\tb_set = set(b)\n",
    "\tif (a_set & b_set):\n",
    "\t\tprint(a_set & b_set)\n",
    "\telse:\n",
    "\t\tprint(\"No common elements\")\n",
    "a = [1, 2, 3, 4, 5]\n",
    "b = [5, 6, 7, 8, 9]\n",
    "common_member(a, b)"
   ]
  },
  {
   "cell_type": "code",
   "execution_count": 27,
   "id": "9628f1c3-079f-4bd7-b919-7c43b82bacfb",
   "metadata": {},
   "outputs": [
    {
     "name": "stdout",
     "output_type": "stream",
     "text": [
      "[10, 15, 20, 30]\n"
     ]
    }
   ],
   "source": [
    "list1 = [10, 15, 20, 25, 30, 35, 40]\n",
    "list2 = [25, 40, 35]\n",
    "list3 = []\n",
    "for element in list1:\n",
    "\tif element not in list2:\n",
    "\t\tlist3.append(element)\n",
    "print(list3)"
   ]
  },
  {
   "cell_type": "code",
   "execution_count": 28,
   "id": "a6207564-4f52-4056-aa83-b78a827c4446",
   "metadata": {},
   "outputs": [
    {
     "name": "stdout",
     "output_type": "stream",
     "text": [
      "[1, 4, 5, 6, 5, 3, 5, 7, 2, 5]\n"
     ]
    }
   ],
   "source": [
    "test_list1 = [1, 4, 5, 6, 5]\n",
    "test_list2 = [3, 5, 7, 2, 5]\n",
    "for i in test_list2 :\n",
    "\ttest_list1.append(i)\n",
    "print (str(test_list1))"
   ]
  },
  {
   "cell_type": "code",
   "execution_count": 29,
   "id": "fcec06ed-8131-49ef-a7c1-5c7aedb24bb4",
   "metadata": {},
   "outputs": [
    {
     "name": "stdout",
     "output_type": "stream",
     "text": [
      "24\n"
     ]
    }
   ],
   "source": [
    "def multiplyList(myList):\n",
    "\tresult = 1\n",
    "\tfor x in myList:\n",
    "\t\tresult = result * x\n",
    "\treturn result\n",
    "list1 = [1, 2, 3]\n",
    "list2 = [3, 2, 4]\n",
    "print(multiplyList(list2))"
   ]
  },
  {
   "cell_type": "code",
   "execution_count": 30,
   "id": "0870f323-70fb-4fd9-b1f3-f061852977f2",
   "metadata": {},
   "outputs": [
    {
     "name": "stdout",
     "output_type": "stream",
     "text": [
      "[2, 4]\n"
     ]
    }
   ],
   "source": [
    "list = [1, 2, 3, 4, 5]\n",
    "out = []\n",
    "\n",
    "for num in list:\n",
    "\tif num % 2 == 0:\n",
    "\t\tout.append(num)\n",
    "print(out)"
   ]
  },
  {
   "cell_type": "code",
   "execution_count": 1,
   "id": "f667b94d-8132-4762-92cf-2bb2b8b51caa",
   "metadata": {},
   "outputs": [
    {
     "name": "stdout",
     "output_type": "stream",
     "text": [
      "Modified list is:  [1, -4, 3, -6, 7]\n"
     ]
    }
   ],
   "source": [
    "lis = ['1', '-4', '3', '-6', '7']\n",
    "res = [eval(i) for i in lis]\n",
    "print(\"Modified list is: \", res)"
   ]
  },
  {
   "cell_type": "code",
   "execution_count": 2,
   "id": "4a8aa7a6-d74d-4559-af49-7fa5afcabeda",
   "metadata": {},
   "outputs": [
    {
     "name": "stdout",
     "output_type": "stream",
     "text": [
      "['1', '2', '3', '4', '5']\n"
     ]
    }
   ],
   "source": [
    "list_int = [1,2,3,4,5]\n",
    "list_string = map(str, list_int)\n",
    "print(list(list_string))"
   ]
  },
  {
   "cell_type": "code",
   "execution_count": 3,
   "id": "8513fec9-b7e9-4bb3-bbae-2695e9e64f43",
   "metadata": {},
   "outputs": [
    {
     "name": "stdout",
     "output_type": "stream",
     "text": [
      "List [[11, 22, 33, 44], [55, 66, 77], [88, 99, 100]]\n",
      "Flat List [11, 22, 33, 44, 55, 66, 77, 88, 99, 100]\n"
     ]
    }
   ],
   "source": [
    "def flat(lis):\n",
    "\tflatList = []\n",
    "\tfor element in lis:\n",
    "\t\tif type(element) is list:\n",
    "\t\t\tfor item in element:\n",
    "\t\t\t\tflatList.append(item)\n",
    "\t\telse:\n",
    "\t\t\tflatList.append(element)\n",
    "\treturn flatList\n",
    "lis = [[11, 22, 33, 44], [55, 66, 77], [88, 99, 100]]\n",
    "print('List', lis)\n",
    "print('Flat List', flat(lis))"
   ]
  },
  {
   "cell_type": "code",
   "execution_count": 4,
   "id": "a296d24f-0eed-433d-8386-478b73e83475",
   "metadata": {},
   "outputs": [
    {
     "name": "stdout",
     "output_type": "stream",
     "text": [
      "First 7 Fibonacci numbers:\n",
      "[0, 1, 1, 2, 3, 5, 8, 13]\n",
      "\n",
      "First 15 Fibonacci numbers:\n",
      "[0, 1, 1, 2, 3, 5, 8, 13, 21, 34, 55, 89, 144, 233, 377, 610]\n",
      "\n",
      "First 50 Fibonacci numbers:\n",
      "[0, 1, 1, 2, 3, 5, 8, 13, 21, 34, 55, 89, 144, 233, 377, 610, 987, 1597, 2584, 4181, 6765, 10946, 17711, 28657, 46368, 75025, 121393, 196418, 317811, 514229, 832040, 1346269, 2178309, 3524578, 5702887, 9227465, 14930352, 24157817, 39088169, 63245986, 102334155, 165580141, 267914296, 433494437, 701408733, 1134903170, 1836311903, 2971215073, 4807526976, 7778742049, 12586269025]\n"
     ]
    }
   ],
   "source": [
    "def fibonacci_nums(n):\n",
    "  if n <= 0:\n",
    "    return [0]\n",
    "  sequence = [0, 1]\n",
    "  while len(sequence) <= n:\n",
    "    next_value = sequence[len(sequence) - 1] + sequence[len(sequence) - 2]\n",
    "    sequence.append(next_value)\n",
    "  return sequence\n",
    "print(\"First 7 Fibonacci numbers:\")\n",
    "print(fibonacci_nums(7))\n",
    "print(\"\\nFirst 15 Fibonacci numbers:\")\n",
    "print(fibonacci_nums(15))\n",
    "print(\"\\nFirst 50 Fibonacci numbers:\")\n",
    "print(fibonacci_nums(50))"
   ]
  },
  {
   "cell_type": "code",
   "execution_count": 5,
   "id": "1addf3fc-be30-4baa-b450-997a5fe3dea1",
   "metadata": {},
   "outputs": [
    {
     "name": "stdout",
     "output_type": "stream",
     "text": [
      "Original list : [1, 4, 5, 8, 10]\n",
      "Yes, List is sorted.\n"
     ]
    }
   ],
   "source": [
    "test_list = [1, 4, 5, 8, 10]\n",
    "print (\"Original list : \" + str(test_list))\n",
    "flag = 0\n",
    "i = 1\n",
    "while i < len(test_list):\n",
    "\tif(test_list[i] < test_list[i - 1]):\n",
    "\t\tflag = 1\n",
    "\ti += 1\n",
    "if (not flag) :\n",
    "\tprint (\"Yes, List is sorted.\")\n",
    "else :\n",
    "\tprint (\"No, List is not sorted.\")"
   ]
  },
  {
   "cell_type": "code",
   "execution_count": 6,
   "id": "b80e8818-1bb0-4928-81d7-555d194febdb",
   "metadata": {},
   "outputs": [
    {
     "name": "stdout",
     "output_type": "stream",
     "text": [
      "Original list : [1, 2, 3, 4, 5]\n",
      "[5, 4, 1, 2, 3]\n"
     ]
    }
   ],
   "source": [
    "def rotate_list(lst, n):\n",
    "\treturn list(reversed(lst[-n:])) + lst[:-n]\n",
    "\n",
    "my_list = [1, 2, 3, 4, 5]\n",
    "print (\"Original list : \" + str(my_list))\n",
    "\n",
    "rotated_list = rotate_list(my_list, 2)\n",
    "print(rotated_list)"
   ]
  },
  {
   "cell_type": "code",
   "execution_count": 7,
   "id": "ddb6465f-f2f4-4da4-9995-fd433978fec2",
   "metadata": {},
   "outputs": [
    {
     "name": "stdout",
     "output_type": "stream",
     "text": [
      "[4, 5, 6, 1, 2, 3]\n"
     ]
    }
   ],
   "source": [
    "def rightRotate(lists, num):\n",
    "\toutput_list = []\n",
    "\tfor item in range(len(lists) - num, len(lists)):\n",
    "\t\toutput_list.append(lists[item])\n",
    "\tfor item in range(0, len(lists) - num):\n",
    "\t\toutput_list.append(lists[item])\n",
    "\treturn output_list\n",
    "rotate_num = 3\n",
    "list_1 = [1, 2, 3, 4, 5, 6]\n",
    "print(rightRotate(list_1, rotate_num))"
   ]
  },
  {
   "cell_type": "code",
   "execution_count": 8,
   "id": "ff98aeea-e4dc-4fd3-ba1c-54f06bf0cd44",
   "metadata": {},
   "outputs": [
    {
     "name": "stdout",
     "output_type": "stream",
     "text": [
      "The prime numbers in this range are:  [2, 3, 5, 7, 11, 13, 17, 19, 23, 29, 31, 37, 41, 43, 47]\n"
     ]
    }
   ],
   "source": [
    "def prime(x, y):\n",
    "\tprime_list = []\n",
    "\tfor i in range(x, y):\n",
    "\t\tif i == 0 or i == 1:\n",
    "\t\t\tcontinue\n",
    "\t\telse:\n",
    "\t\t\tfor j in range(2, int(i/2)+1):\n",
    "\t\t\t\tif i % j == 0:\n",
    "\t\t\t\t\tbreak\n",
    "\t\t\telse:\n",
    "\t\t\t\tprime_list.append(i)\n",
    "\treturn prime_list\n",
    "starting_range = 1\n",
    "ending_range = 50\n",
    "lst = prime(starting_range, ending_range)\n",
    "if len(lst) == 0:\n",
    "\tprint(\"There are no prime numbers in this range\")\n",
    "else:\n",
    "\tprint(\"The prime numbers in this range are: \", lst)"
   ]
  },
  {
   "cell_type": "code",
   "execution_count": 9,
   "id": "4702aa33-1606-4aac-8b3e-3b621c893fa5",
   "metadata": {},
   "outputs": [
    {
     "name": "stdout",
     "output_type": "stream",
     "text": [
      "[1, 2, 3]\n",
      "[4, 5, 6]\n",
      "[7, 8, 9]\n"
     ]
    }
   ],
   "source": [
    "my_list = [1, 2, 3, 4, 5,\n",
    "\t\t6, 7, 8, 9]\n",
    "start = 0\n",
    "end = len(my_list)\n",
    "step = 3\n",
    "for i in range(start, end, step):\n",
    "\tx = i\n",
    "\tprint(my_list[x:x+step])"
   ]
  },
  {
   "cell_type": "code",
   "execution_count": 10,
   "id": "d0489f85-8847-416d-a21a-3528528a7072",
   "metadata": {},
   "outputs": [
    {
     "name": "stdout",
     "output_type": "stream",
     "text": [
      "Second largest element is: 45\n"
     ]
    }
   ],
   "source": [
    "list1 = [10, 20, 20, 4, 45, 45, 45, 99, 99]\n",
    "list2 = list(set(list1))\n",
    "list2.sort()\n",
    "print(\"Second largest element is:\", list2[-2])"
   ]
  },
  {
   "cell_type": "code",
   "execution_count": 11,
   "id": "75f2f5a9-c5ab-4327-8c28-ec017de883aa",
   "metadata": {},
   "outputs": [
    {
     "name": "stdout",
     "output_type": "stream",
     "text": [
      "initial 2 list are\n",
      "['cut', 'god', 'pass'] \n",
      " ['god', 'cut', 'cut', 'cut', 'god', 'pass', 'cut', 'pass']\n",
      "Second list after replacement is: [1, 0, 0, 0, 1, 2, 0, 2]\n"
     ]
    }
   ],
   "source": [
    "Input1 = ['cut', 'god', 'pass']\n",
    "Input2 = ['god', 'cut', 'cut', 'cut',\n",
    "\t\t'god', 'pass', 'cut', 'pass']\n",
    "Output = []\n",
    "for x in Input2:\n",
    "\tfor y in Input1:\n",
    "\t\tif x == y:\n",
    "\t\t\tOutput.append(Input1.index(y))\n",
    "print(\"initial 2 list are\")\n",
    "print(Input1, \"\\n\", Input2)\n",
    "print(\"Second list after replacement is:\", Output)"
   ]
  },
  {
   "cell_type": "code",
   "execution_count": 12,
   "id": "bc6fdb1e-c60c-40d7-96e1-e6c41946443a",
   "metadata": {},
   "outputs": [
    {
     "name": "stdout",
     "output_type": "stream",
     "text": [
      "{0: 'a', 1: 'b', 2: 'c', 3: 'd', 4: 'e'}\n"
     ]
    }
   ],
   "source": [
    "def list_to_dict_with_index(lst):\n",
    "\tdict_with_index = {index: value for index, value in enumerate(lst)}\n",
    "\treturn dict_with_index\n",
    "\n",
    "if __name__ == \"__main__\":\n",
    "\tsample_list = ['a', 'b', 'c', 'd', 'e']\n",
    "\tresult_dict = list_to_dict_with_index(sample_list)\n",
    "\tprint(result_dict)"
   ]
  },
  {
   "cell_type": "code",
   "execution_count": 13,
   "id": "f88c7dfc-b00d-4a67-8986-fd1526ea5bec",
   "metadata": {},
   "outputs": [
    {
     "name": "stdout",
     "output_type": "stream",
     "text": [
      "The original list is : [1, 4, 5, 6, 3]\n",
      "The shuffled list is : [3, 5, 4, 1, 6]\n"
     ]
    }
   ],
   "source": [
    "import random\n",
    "test_list = [1, 4, 5, 6, 3]\n",
    "print(\"The original list is : \" + str(test_list))\n",
    "random.shuffle(test_list)\n",
    "print(\"The shuffled list is : \" + str(test_list))"
   ]
  },
  {
   "cell_type": "code",
   "execution_count": 15,
   "id": "d1da746d-8465-4772-9f0a-aa13e45a829a",
   "metadata": {},
   "outputs": [
    {
     "name": "stdout",
     "output_type": "stream",
     "text": [
      "Factorial of 10 is 3628800\n"
     ]
    }
   ],
   "source": [
    "def factorial(n):\n",
    "\treturn 1 if (n==1 or n==0) else n * factorial(n - 1)\n",
    "num = 10\n",
    "print(\"Factorial of\",num,\"is\",factorial(num))"
   ]
  },
  {
   "cell_type": "code",
   "execution_count": 16,
   "id": "550296f9-10be-4c39-b699-70ddb1216066",
   "metadata": {},
   "outputs": [
    {
     "name": "stdout",
     "output_type": "stream",
     "text": [
      "True\n",
      "False\n"
     ]
    }
   ],
   "source": [
    "def common_member(a, b):\n",
    "\treturn any(i in b for i in a)\n",
    "a = [1, 2, 3, 4, 5]\n",
    "b = [5, 6, 7, 8, 9]\n",
    "print(common_member(a, b))\n",
    "a =[1, 2, 3, 4, 5]\n",
    "b =[6, 7, 8, 9]\n",
    "print(common_member(a, b))"
   ]
  },
  {
   "cell_type": "code",
   "execution_count": 18,
   "id": "f978f9c8-fc6a-458e-b5c1-65d9e646a5f2",
   "metadata": {},
   "outputs": [
    {
     "name": "stdout",
     "output_type": "stream",
     "text": [
      "a before clear: [6, 0, 4, 1]\n",
      "a after clear: []\n"
     ]
    }
   ],
   "source": [
    "a = [6, 0, 4, 1]\n",
    "print('a before clear:', a)\n",
    "a.clear()\n",
    "print('a after clear:', a)"
   ]
  },
  {
   "cell_type": "code",
   "execution_count": 19,
   "id": "3b181ec9-8d05-450b-b2e8-2543b9035f6c",
   "metadata": {},
   "outputs": [
    {
     "name": "stdout",
     "output_type": "stream",
     "text": [
      "initial array [ 1  2 -3  4 -5 -6]\n",
      "New resulting array:  [1 2 0 4 0 0]\n"
     ]
    }
   ],
   "source": [
    "import numpy as np\n",
    "ini_array1 = np.array([1, 2, -3, 4, -5, -6])\n",
    "print(\"initial array\", ini_array1)\n",
    "ini_array1[ini_array1<0] = 0\n",
    "print(\"New resulting array: \", ini_array1)"
   ]
  },
  {
   "cell_type": "code",
   "execution_count": 20,
   "id": "17c4c465-7be9-4c2e-965a-25174a0da6d4",
   "metadata": {},
   "outputs": [
    {
     "name": "stdout",
     "output_type": "stream",
     "text": [
      "['P', 'w', 's', 'k', 'i', 'l', 'l', 's']\n"
     ]
    }
   ],
   "source": [
    "s = \"Pwskills\"\n",
    "x = list(s)\n",
    "print(x)"
   ]
  },
  {
   "cell_type": "code",
   "execution_count": 21,
   "id": "54082c26-ba77-47ab-b53b-67ee3aeaeb2c",
   "metadata": {},
   "outputs": [
    {
     "name": "stdout",
     "output_type": "stream",
     "text": [
      "['pwskills']\n"
     ]
    }
   ],
   "source": [
    "x = [\"pwskills\"]\n",
    "s = str(x)\n",
    "print(s)"
   ]
  },
  {
   "cell_type": "code",
   "execution_count": 22,
   "id": "c5407e3d-8e17-4848-8308-c0aba518d063",
   "metadata": {},
   "outputs": [
    {
     "name": "stdout",
     "output_type": "stream",
     "text": [
      "No\n",
      "Yes\n"
     ]
    }
   ],
   "source": [
    "def isPowerOfTwo(n):\n",
    "\tif (n == 0):\n",
    "\t\treturn False\n",
    "\twhile (n != 1):\n",
    "\t\t\tif (n % 2 != 0):\n",
    "\t\t\t\treturn False\n",
    "\t\t\tn = n // 2\n",
    "\treturn True\n",
    "if(isPowerOfTwo(31)):\n",
    "\tprint('Yes')\n",
    "else:\n",
    "\tprint('No')\n",
    "if(isPowerOfTwo(64)):\n",
    "\tprint('Yes')\n",
    "else:\n",
    "\tprint('No')"
   ]
  },
  {
   "cell_type": "code",
   "execution_count": 1,
   "id": "2b4e4e44-4e10-428c-aafe-ddddc678f0ea",
   "metadata": {},
   "outputs": [
    {
     "name": "stdout",
     "output_type": "stream",
     "text": [
      "The original list : ['p', 'w', 'skills']\n",
      "Maximum length string is : skills\n"
     ]
    }
   ],
   "source": [
    "test_list = ['p', 'w', 'skills']\n",
    "print(\"The original list : \" + str(test_list))\n",
    "max_len = -1\n",
    "for ele in test_list:\n",
    "\tif len(ele) > max_len:\n",
    "\t\tmax_len = len(ele)\n",
    "\t\tres = ele\n",
    "print(\"Maximum length string is : \" + res)"
   ]
  },
  {
   "cell_type": "code",
   "execution_count": 2,
   "id": "deb9d252-6186-4a90-ba49-3a25c2172232",
   "metadata": {},
   "outputs": [
    {
     "name": "stdout",
     "output_type": "stream",
     "text": [
      "The original list : ['p', 'w', 'skills']\n",
      "Length of minimum string is : 1\n"
     ]
    }
   ],
   "source": [
    "test_list = ['p', 'w', 'skills']\n",
    "print(\"The original list : \" + str(test_list))\n",
    "res = min(len(ele) for ele in test_list)\n",
    "print(\"Length of minimum string is : \" + str(res))\n"
   ]
  },
  {
   "cell_type": "code",
   "execution_count": 3,
   "id": "72524dbc-dfb2-43c3-a0bd-432925ef2383",
   "metadata": {},
   "outputs": [
    {
     "name": "stdout",
     "output_type": "stream",
     "text": [
      "1 3 6 10 15 "
     ]
    }
   ],
   "source": [
    "def triangular_series(n):\n",
    "\tfor i in range(1, n + 1):\n",
    "\t\tprint( i*(i+1)//2,end=' ')\n",
    "n = 5\n",
    "triangular_series(n)"
   ]
  },
  {
   "cell_type": "code",
   "execution_count": 4,
   "id": "3daa6b62-00da-4b9d-af69-51fe558e2976",
   "metadata": {},
   "outputs": [
    {
     "name": "stdout",
     "output_type": "stream",
     "text": [
      "Original list : [9, 4, 5, 8, 10]\n",
      "Original sub list : [10, 5, 4]\n",
      "Yes, list is subset of other.\n"
     ]
    }
   ],
   "source": [
    "test_list = [9, 4, 5, 8, 10]\n",
    "sub_list = [10, 5, 4]\n",
    "print(\"Original list : \" + str(test_list))\n",
    "print(\"Original sub list : \" + str(sub_list))\n",
    "flag = 0\n",
    "if(all(x in test_list for x in sub_list)):\n",
    "\tflag = 1\n",
    "if (flag):\n",
    "\tprint(\"Yes, list is subset of other.\")\n",
    "else:\n",
    "\tprint(\"No, list is not subset of other.\")"
   ]
  },
  {
   "cell_type": "code",
   "execution_count": 5,
   "id": "1a3c9347-7309-4dce-864d-f57c03811c58",
   "metadata": {},
   "outputs": [
    {
     "name": "stdout",
     "output_type": "stream",
     "text": [
      "[19, 65, 23, 90]\n"
     ]
    }
   ],
   "source": [
    "def swapPositions(list, pos1, pos2):\n",
    "\t\n",
    "\tlist[pos1], list[pos2] = list[pos2], list[pos1]\n",
    "\treturn list\n",
    "List = [23, 65, 19, 90]\n",
    "pos1, pos2 = 1, 3\n",
    "print(swapPositions(List, pos1-1, pos2-1))"
   ]
  },
  {
   "cell_type": "code",
   "execution_count": 8,
   "id": "ee883439-7e02-4062-944a-6f182870ecec",
   "metadata": {},
   "outputs": [
    {
     "name": "stdout",
     "output_type": "stream",
     "text": [
      "(1, 2, 3, 4, 50)\n"
     ]
    }
   ],
   "source": [
    "T = (1,2,3,4,50)\n",
    "print(T)"
   ]
  },
  {
   "cell_type": "code",
   "execution_count": 10,
   "id": "da786870-9c9b-4894-b706-5ad1eee48b67",
   "metadata": {},
   "outputs": [
    {
     "name": "stdout",
     "output_type": "stream",
     "text": [
      "The list is : [1, 4, 5, 7, 8]\n",
      "Length of list using naive method is : 5\n"
     ]
    }
   ],
   "source": [
    "test_list = [1, 4, 5, 7, 8]\n",
    "print(\"The list is : \" + str(test_list))\n",
    "counter = 0\n",
    "for i in test_list:\n",
    "\tcounter = counter + 1\n",
    "print(\"Length of list using naive method is : \" + str(counter))"
   ]
  },
  {
   "cell_type": "code",
   "execution_count": 12,
   "id": "6cf8cc5f-d454-47c6-b4b1-d89ff4d98a80",
   "metadata": {},
   "outputs": [
    {
     "name": "stdout",
     "output_type": "stream",
     "text": [
      "5\n"
     ]
    }
   ],
   "source": [
    "T = (1,2,3,4,50)\n",
    "print(len(T))"
   ]
  },
  {
   "cell_type": "code",
   "execution_count": 14,
   "id": "80ecc966-01ae-4916-8216-727e8bc0b9f0",
   "metadata": {},
   "outputs": [
    {
     "name": "stdout",
     "output_type": "stream",
     "text": [
      "0\n"
     ]
    }
   ],
   "source": [
    "Tuple = ( 4, 2, 5, 6, 7, 5)\n",
    "print(Tuple.index(4))"
   ]
  },
  {
   "cell_type": "code",
   "execution_count": 15,
   "id": "55a089c3-1692-4abb-bad0-548eaee7b95c",
   "metadata": {},
   "outputs": [
    {
     "name": "stdout",
     "output_type": "stream",
     "text": [
      "The original tuple : (10, 4, 5, 6, 8)\n",
      "Does tuple contain required value ? : True\n"
     ]
    }
   ],
   "source": [
    "test_tup = (10, 4, 5, 6, 8)\n",
    "print(\"The original tuple : \" + str(test_tup))\n",
    "N = 6\n",
    "res = False\n",
    "for ele in test_tup:\n",
    "\tif N == ele:\n",
    "\t\tres = True\n",
    "\t\tbreak\n",
    "print(\"Does tuple contain required value ? : \" + str(res))"
   ]
  },
  {
   "cell_type": "code",
   "execution_count": 23,
   "id": "e6bdb798-b249-49e9-bc83-c9de56f56f50",
   "metadata": {},
   "outputs": [
    {
     "name": "stdout",
     "output_type": "stream",
     "text": [
      "[(1, 2, 3, 4, 5)]\n"
     ]
    }
   ],
   "source": [
    "t = (1,2,3,4,5)\n",
    "print([t])"
   ]
  },
  {
   "cell_type": "code",
   "execution_count": 21,
   "id": "3b17472e-2de1-46a3-a298-d96b9e53892d",
   "metadata": {},
   "outputs": [
    {
     "name": "stdout",
     "output_type": "stream",
     "text": [
      "(1, 2, 3, 4)\n"
     ]
    }
   ],
   "source": [
    "def convert(list):\n",
    "\treturn tuple(list)\n",
    "list = [1, 2, 3, 4]\n",
    "print(convert(list))"
   ]
  },
  {
   "cell_type": "code",
   "execution_count": 24,
   "id": "faa419f2-f61a-4b9c-aceb-7f2729d2cf72",
   "metadata": {},
   "outputs": [
    {
     "name": "stdout",
     "output_type": "stream",
     "text": [
      "LPU\n",
      "5000\n",
      "Engineering\n"
     ]
    }
   ],
   "source": [
    "a = (\"LPU\", 5000, \"Engineering\")\n",
    "(college, student, type_ofcollege) = a\n",
    "print(college)\n",
    "print(student)\n",
    "print(type_ofcollege)"
   ]
  },
  {
   "cell_type": "code",
   "execution_count": 26,
   "id": "49b6c3e0-a6b1-479e-a795-6c948a3c391b",
   "metadata": {},
   "outputs": [
    {
     "name": "stdout",
     "output_type": "stream",
     "text": [
      "(2, 4, 6, 8, 10)\n"
     ]
    }
   ],
   "source": [
    "t = (2,4,6,8,10)\n",
    "print(t)"
   ]
  },
  {
   "cell_type": "code",
   "execution_count": 28,
   "id": "2c064e2f-91b1-4485-9813-8457bdb3c94c",
   "metadata": {},
   "outputs": [
    {
     "name": "stdout",
     "output_type": "stream",
     "text": [
      "(1, 3, 5, 7, 9)\n"
     ]
    }
   ],
   "source": [
    "t = (1,3,5,7,9)\n",
    "print(t)"
   ]
  },
  {
   "cell_type": "code",
   "execution_count": 29,
   "id": "ff42ead5-95b9-4d3b-8264-ccb822ed36c7",
   "metadata": {},
   "outputs": [
    {
     "name": "stdout",
     "output_type": "stream",
     "text": [
      "(1, 2, 3, 4, 5, 6, 7, 8)\n"
     ]
    }
   ],
   "source": [
    "t1 = (1,2,3,4,5)\n",
    "t2 = (6,7,8)\n",
    "print(t1+t2)"
   ]
  },
  {
   "cell_type": "code",
   "execution_count": 31,
   "id": "7df372ca-2555-4891-95a3-68eadd8df35e",
   "metadata": {},
   "outputs": [
    {
     "name": "stdout",
     "output_type": "stream",
     "text": [
      "The original tuple : (1, 3)\n",
      "The duplicated tuple elements are : ((1, 3), (1, 3), (1, 3))\n"
     ]
    }
   ],
   "source": [
    "tup = (1, 3)\n",
    "print(\"The original tuple : \" + str(tup))\n",
    "N = 3\n",
    "res = ((tup, ) * N)\n",
    "print(\"The duplicated tuple elements are : \" + str(res))"
   ]
  },
  {
   "cell_type": "code",
   "execution_count": 33,
   "id": "0c875009-4101-4ee5-950f-87dd29026dd1",
   "metadata": {},
   "outputs": [
    {
     "name": "stdout",
     "output_type": "stream",
     "text": [
      "Mytuple is empty\n",
      "()\n"
     ]
    }
   ],
   "source": [
    "Mytuple=()\n",
    "if not Mytuple:\n",
    "    print (\"Mytuple is empty\")\n",
    "else:\n",
    "    print (\"Mytuple is not empty\")\n",
    "print(Mytuple)"
   ]
  },
  {
   "cell_type": "code",
   "execution_count": 34,
   "id": "71fe3bb8-e3da-432e-9d4e-13fafb89fccd",
   "metadata": {},
   "outputs": [
    {
     "name": "stdout",
     "output_type": "stream",
     "text": [
      "The original tuple 1 : ((3, 4),)\n",
      "The original tuple 2 : ((5, 6),)\n",
      "Tuples after Concatenating : ((3, 4), (5, 6))\n"
     ]
    }
   ],
   "source": [
    "test_tup1 = (3, 4),\n",
    "test_tup2 = (5, 6),\n",
    "print(\"The original tuple 1 : \" + str(test_tup1))\n",
    "print(\"The original tuple 2 : \" + str(test_tup2))\n",
    "res = test_tup1 + test_tup2\n",
    "print(\"Tuples after Concatenating : \" + str(res))"
   ]
  },
  {
   "cell_type": "code",
   "execution_count": 1,
   "id": "584db6ac-67a8-47e6-b8ff-1b5159da9519",
   "metadata": {},
   "outputs": [
    {
     "name": "stdout",
     "output_type": "stream",
     "text": [
      "Hello\n"
     ]
    }
   ],
   "source": [
    "Tuple = (\"Hello\")\n",
    "print(Tuple)"
   ]
  },
  {
   "cell_type": "code",
   "execution_count": 4,
   "id": "08f52d38-61c8-4c7d-bd14-a5166cbefb23",
   "metadata": {},
   "outputs": [
    {
     "name": "stdout",
     "output_type": "stream",
     "text": [
      "The original tuple 1 : (10, 4, 5)\n",
      "The original tuple 2 : (13, 5, 18)\n",
      "Are all elements in second tuple greater than first ? : True\n"
     ]
    }
   ],
   "source": [
    "test_tup1 = (10, 4, 5)\n",
    "test_tup2 = (13, 5, 18)\n",
    "print(\"The original tuple 1 : \" + str(test_tup1))\n",
    "print(\"The original tuple 2 : \" + str(test_tup2))\n",
    "res = all(x < y for x, y in zip(test_tup1, test_tup2))\n",
    "print(\"Are all elements in second tuple greater than first ? : \" + str(res))\n"
   ]
  },
  {
   "cell_type": "code",
   "execution_count": 1,
   "id": "04eea7a6-86b1-4831-9b93-f638c3c24718",
   "metadata": {},
   "outputs": [
    {
     "name": "stdout",
     "output_type": "stream",
     "text": [
      "The original tuple : (1, 5, 3, 6, 8)\n",
      "The tuple after clearing values : ()\n"
     ]
    }
   ],
   "source": [
    "test_tup = (1, 5, 3, 6, 8)\n",
    "print(\"The original tuple : \" + str(test_tup))\n",
    "temp = list(test_tup)\n",
    "temp.clear()\n",
    "test_tup = tuple(temp)\n",
    "print(\"The tuple after clearing values : \" + str(test_tup))"
   ]
  },
  {
   "cell_type": "code",
   "execution_count": 2,
   "id": "02938158-2a4a-4ed3-b558-7fd1f430aba5",
   "metadata": {},
   "outputs": [
    {
     "name": "stdout",
     "output_type": "stream",
     "text": [
      "(5, 4)\n"
     ]
    }
   ],
   "source": [
    "tuplex = (2, 4, 3, 5, 4, 6, 7, 8, 6, 1)\n",
    "print(tuplex[3:5])"
   ]
  },
  {
   "cell_type": "code",
   "execution_count": 1,
   "id": "2eb196f9-180a-4310-8a79-44259564f5cb",
   "metadata": {},
   "outputs": [
    {
     "name": "stdout",
     "output_type": "stream",
     "text": [
      "Maximum value is: 63\n"
     ]
    }
   ],
   "source": [
    "t = (25, 17, 55, 63, 40)\n",
    "\n",
    "max_val = t[0]\n",
    "\n",
    "for i in range(len(t)):\n",
    "\tif t[i] > max_val:\n",
    "\t\tmax_val = t[i]\n",
    "\n",
    "print(\"Maximum value is:\", max_val)\n"
   ]
  },
  {
   "cell_type": "code",
   "execution_count": 2,
   "id": "0cb46855-ee02-4d04-87f6-29aca157bf4e",
   "metadata": {},
   "outputs": [
    {
     "name": "stdout",
     "output_type": "stream",
     "text": [
      "Minimum value is: 63\n"
     ]
    }
   ],
   "source": [
    "t = (25, 17, 55, 63, 40)\n",
    "\n",
    "min_val = t[0]\n",
    "\n",
    "for i in range(len(t)):\n",
    "\tif t[i] > min_val:\n",
    "\t\tmin_val = t[i]\n",
    "\n",
    "print(\"Minimum value is:\", min_val)"
   ]
  },
  {
   "cell_type": "code",
   "execution_count": 4,
   "id": "49aedda8-5c59-46e6-a930-6df151d9eb98",
   "metadata": {},
   "outputs": [
    {
     "name": "stdout",
     "output_type": "stream",
     "text": [
      "['P', 'w', 's', 'k', 'i', 'l', 'l', 's']\n"
     ]
    }
   ],
   "source": [
    "string = \"Pwskills\"\n",
    "print([*string])\n"
   ]
  },
  {
   "cell_type": "code",
   "execution_count": 6,
   "id": "862d6df6-a6ed-4f3a-b7a0-6b4396b8c86b",
   "metadata": {},
   "outputs": [
    {
     "name": "stdout",
     "output_type": "stream",
     "text": [
      "P, w, s, k, i, l, l, s \n"
     ]
    }
   ],
   "source": [
    "def convert(s):\n",
    "\tnew = \"\"\n",
    "\tfor x in s:\n",
    "\t\tnew += x\n",
    "\treturn new\n",
    "s = [\"P, w, s, k, i, l, l, s \"]\n",
    "print(convert(s))"
   ]
  },
  {
   "cell_type": "code",
   "execution_count": 7,
   "id": "31fbebfd-e20b-4f2a-be97-ab108b502a51",
   "metadata": {},
   "outputs": [
    {
     "name": "stdout",
     "output_type": "stream",
     "text": [
      "P, w, skills\n"
     ]
    }
   ],
   "source": [
    "var = (\"P, w, skills\")\n",
    "print(var)\n"
   ]
  },
  {
   "cell_type": "code",
   "execution_count": 8,
   "id": "c3006c39-76b8-4ea9-a512-7bc6961dc219",
   "metadata": {},
   "outputs": [
    {
     "name": "stdout",
     "output_type": "stream",
     "text": [
      "The original list 1 : [(10, 4), (2, 5)]\n",
      "The original list 2 : [(10, 4), (2, 5)]\n",
      "Are tuple lists identical ? : True\n"
     ]
    }
   ],
   "source": [
    "test_list1 = [(10, 4), (2, 5)]\n",
    "test_list2 = [(10, 4), (2, 5)]\n",
    "\n",
    "print(\"The original list 1 : \" + str(test_list1))\n",
    "print(\"The original list 2 : \" + str(test_list2))\n",
    "\n",
    "res = test_list1 == test_list2\n",
    "print(\"Are tuple lists identical ? : \" + str(res))"
   ]
  },
  {
   "cell_type": "code",
   "execution_count": 9,
   "id": "37357a18-b5e8-40e0-9ea0-810e3218d4d3",
   "metadata": {},
   "outputs": [
    {
     "name": "stdout",
     "output_type": "stream",
     "text": [
      "Sorted:\n",
      "[(23, 45, 20), (89, 40, 23), (25, 44, 39)]\n"
     ]
    }
   ],
   "source": [
    "def last(n):\n",
    "\treturn n[m]\n",
    "\n",
    "def sort(tuples):\n",
    "\treturn sorted(tuples, key = last)\n",
    "a = [(23, 45, 20), (25, 44, 39), (89, 40, 23)]\n",
    "m = 2\n",
    "print(\"Sorted:\"),\n",
    "print(sort(a))"
   ]
  },
  {
   "cell_type": "code",
   "execution_count": 10,
   "id": "f112853d-2b9a-4918-8213-f9570c36d8da",
   "metadata": {},
   "outputs": [
    {
     "name": "stdout",
     "output_type": "stream",
     "text": [
      "The original string is : (7, 8, 9)\n",
      "The tuple after conversion is : (7, 8, 9)\n"
     ]
    }
   ],
   "source": [
    "test_str = \"(7, 8, 9)\"\n",
    "print(\"The original string is : \" + test_str)\n",
    "\n",
    "res = tuple(int(num) for num in test_str.replace('(', '').replace(')', '').replace('...', '').split(', '))\n",
    "\n",
    "\n",
    "print(\"The tuple after conversion is : \" + str(res))"
   ]
  },
  {
   "cell_type": "code",
   "execution_count": 11,
   "id": "a5c3e587-05be-45e9-a161-25652aa73081",
   "metadata": {},
   "outputs": [
    {
     "name": "stdout",
     "output_type": "stream",
     "text": [
      "The original string is : (7, 8, 9)\n",
      "The tuple after conversion is : (7, 8, 9)\n"
     ]
    }
   ],
   "source": [
    "test_str = \"(7, 8, 9)\"\n",
    "print(\"The original string is : \" + test_str)\n",
    "res = tuple(int(num) for num in test_str.replace('(', '').replace(')', '').replace('...', '').split(', '))\n",
    "print(\"The tuple after conversion is : \" + str(res))"
   ]
  },
  {
   "cell_type": "code",
   "execution_count": 12,
   "id": "d39c0c1f-6e6f-4c58-a5a4-e8b6f5e59667",
   "metadata": {},
   "outputs": [
    {
     "name": "stdout",
     "output_type": "stream",
     "text": [
      "('a', 'b', 'c', 1, 2, 3)\n"
     ]
    }
   ],
   "source": [
    "tuple1 = (\"a\", \"b\" , \"c\")\n",
    "tuple2 = (1, 2, 3)\n",
    "\n",
    "tuple3 = tuple1 + tuple2\n",
    "print(tuple3)"
   ]
  },
  {
   "cell_type": "code",
   "execution_count": 13,
   "id": "f25ad99f-78c6-49a2-9c53-d12b08f0a262",
   "metadata": {},
   "outputs": [
    {
     "name": "stdout",
     "output_type": "stream",
     "text": [
      "The original tuple : ((4, 5), ((4, 7), (8, 9), (10, 11)), ((9, 10), (3, 4)))\n",
      "The flattened tuple : (4, 5, 4, 7, 8, 9, 10, 11, 9, 10, 3, 4)\n"
     ]
    }
   ],
   "source": [
    "from functools import reduce\n",
    "\n",
    "def flatten_tuple(nested_tuple):\n",
    "\tdef reducer(acc, val):\n",
    "\t\tif isinstance(val, tuple):\n",
    "\t\t\treturn acc + flatten_tuple(val)\n",
    "\t\telse:\n",
    "\t\t\treturn acc + (val,)\n",
    "\n",
    "\treturn reduce(reducer, nested_tuple, ())\n",
    "test_tuple = ((4, 5), ((4, 7), (8, 9), (10, 11)), (((9, 10), (3, 4))))\n",
    "\n",
    "print(\"The original tuple : \" + str(test_tuple))\n",
    "\n",
    "res = flatten_tuple(test_tuple)\n",
    "\n",
    "print(\"The flattened tuple : \" + str(res))"
   ]
  },
  {
   "cell_type": "code",
   "execution_count": 14,
   "id": "e30bbca9-cfd5-423e-95d8-f77c01c6cbe0",
   "metadata": {},
   "outputs": [
    {
     "name": "stdout",
     "output_type": "stream",
     "text": [
      "The prime numbers in this range are:  [2, 3, 5]\n"
     ]
    }
   ],
   "source": [
    "def prime(x, y):\n",
    "\tprime_list = []\n",
    "\tfor i in range(x, y):\n",
    "\t\tif i == 0 or i == 1:\n",
    "\t\t\tcontinue\n",
    "\t\telse:\n",
    "\t\t\tfor j in range(2, int(i/2)+1):\n",
    "\t\t\t\tif i % j == 0:\n",
    "\t\t\t\t\tbreak\n",
    "\t\t\telse:\n",
    "\t\t\t\tprime_list.append(i)\n",
    "\treturn prime_list\n",
    "starting_range = 2\n",
    "ending_range = 7\n",
    "lst = prime(starting_range, ending_range)\n",
    "if len(lst) == 0:\n",
    "\tprint(\"There are no prime numbers in this range\")\n",
    "else:\n",
    "\tprint(\"The prime numbers in this range are: \", lst)"
   ]
  },
  {
   "cell_type": "code",
   "execution_count": 15,
   "id": "7a570841-0e5c-47dd-a541-95932f63b545",
   "metadata": {},
   "outputs": [
    {
     "name": "stdout",
     "output_type": "stream",
     "text": [
      "The original list is : [1, 4, 5, 4, 1]\n",
      "Is list Palindrome : True\n"
     ]
    }
   ],
   "source": [
    "test_list = [1, 4, 5, 4, 1]\n",
    "print(\"The original list is : \" + str(test_list))\n",
    "reverse = test_list[::-1]\n",
    "res = test_list == reverse\n",
    "print(\"Is list Palindrome : \" + str(res))"
   ]
  },
  {
   "cell_type": "code",
   "execution_count": 17,
   "id": "02c8a69d-d1ec-4652-8cd5-fcfcea0180d2",
   "metadata": {},
   "outputs": [
    {
     "name": "stdout",
     "output_type": "stream",
     "text": [
      "55\n"
     ]
    }
   ],
   "source": [
    "def squaresum(n):\n",
    "\tsm = 0\n",
    "\tfor i in range(1, n+1):\n",
    "\t\tsm = sm + (i * i)\n",
    "\n",
    "\treturn sm\n",
    "n = 5\n",
    "print(squaresum(n))"
   ]
  },
  {
   "cell_type": "code",
   "execution_count": 18,
   "id": "17ff31d4-eccc-4923-a4cb-91a1fdc7efc3",
   "metadata": {},
   "outputs": [
    {
     "name": "stdout",
     "output_type": "stream",
     "text": [
      "[2, 4]\n"
     ]
    }
   ],
   "source": [
    "lis = [1, 2, 3, 4, 5]\n",
    "out = []\n",
    "for num in lis:\n",
    "\tif num % 2 == 0:\n",
    "\t\tout.append(num)\n",
    "print(out)"
   ]
  },
  {
   "cell_type": "code",
   "execution_count": 19,
   "id": "97b31b98-d3fe-47af-adc8-c6073cbee76f",
   "metadata": {},
   "outputs": [
    {
     "name": "stdout",
     "output_type": "stream",
     "text": [
      "The original tuple is : (7, 8, 9, 1, 10, 7)\n",
      "The product of tuple elements are : 35280\n"
     ]
    }
   ],
   "source": [
    "def prod(val) :\n",
    "\tres = 1\n",
    "\tfor ele in val:\n",
    "\t\tres *= ele\n",
    "\treturn res\n",
    "test_tup = (7, 8, 9, 1, 10, 7)\n",
    "print(\"The original tuple is : \" + str(test_tup))\n",
    "res = prod(list(test_tup))\n",
    "print(\"The product of tuple elements are : \" + str(res))"
   ]
  },
  {
   "cell_type": "code",
   "execution_count": 20,
   "id": "f5002d2e-cf47-4c94-99ff-fc3ba88ad8c6",
   "metadata": {},
   "outputs": [
    {
     "name": "stdout",
     "output_type": "stream",
     "text": [
      "[(6, 5), (4, 5), (1, 4), (5, 1)]\n"
     ]
    }
   ],
   "source": [
    "import random\n",
    "N = 4\n",
    "R = 6\n",
    "generate_tuples = lambda N, R: [(random.randint(0, R), random.randint(0, R)) for _ in range(N)]\n",
    "output = generate_tuples(N, R)\n",
    "print(output)"
   ]
  },
  {
   "cell_type": "code",
   "execution_count": 21,
   "id": "b7a54351-4127-4a94-ae7b-8588d58b50c4",
   "metadata": {},
   "outputs": [
    {
     "name": "stdout",
     "output_type": "stream",
     "text": [
      "True\n"
     ]
    }
   ],
   "source": [
    "def is_tuple_sorted(t):\n",
    "    for i in range(1, len(t)):\n",
    "        if t[i] < t[i-1]:\n",
    "            return False\n",
    "    return True\n",
    "t = (1, 2, 3, 4, 5)\n",
    "print(is_tuple_sorted(t))"
   ]
  },
  {
   "cell_type": "code",
   "execution_count": 22,
   "id": "fcf36129-78e2-466a-8715-5dbe20188a00",
   "metadata": {},
   "outputs": [
    {
     "name": "stdout",
     "output_type": "stream",
     "text": [
      "[4, 5, 6, 1, 2, 3]\n"
     ]
    }
   ],
   "source": [
    "def rightRotate(lists, num):\n",
    "\toutput_list = []\n",
    "\tfor item in range(len(lists) - num, len(lists)):\n",
    "\t\toutput_list.append(lists[item])\n",
    "\tfor item in range(0, len(lists) - num):\n",
    "\t\toutput_list.append(lists[item])\n",
    "\treturn output_list\n",
    "rotate_num = 3\n",
    "list_1 = [1, 2, 3, 4, 5, 6]\n",
    "print(rightRotate(list_1, rotate_num))"
   ]
  },
  {
   "cell_type": "code",
   "execution_count": 23,
   "id": "6eb1ebc0-c81c-4b50-867b-8df3dad9f945",
   "metadata": {},
   "outputs": [
    {
     "name": "stdout",
     "output_type": "stream",
     "text": [
      "[4, 5, 6, 1, 2, 3]\n"
     ]
    }
   ],
   "source": [
    "def rightRotate(lists, num):\n",
    "\toutput_list = []\n",
    "\tfor item in range(len(lists) - num, len(lists)):\n",
    "\t\toutput_list.append(lists[item])\n",
    "\tfor item in range(0, len(lists) - num):\n",
    "\t\toutput_list.append(lists[item])\n",
    "\treturn output_list\n",
    "rotate_num = 3\n",
    "list_1 = [1, 2, 3, 4, 5, 6]\n",
    "print(rightRotate(list_1, rotate_num))"
   ]
  },
  {
   "cell_type": "code",
   "execution_count": 25,
   "id": "d2074e6e-c917-403a-bb53-aca64516257f",
   "metadata": {},
   "outputs": [
    {
     "name": "stdout",
     "output_type": "stream",
     "text": [
      "3\n"
     ]
    }
   ],
   "source": [
    "def Fibonacci(n):\n",
    "\tif n<= 0:\n",
    "\t\tprint(\"Incorrect input\")\n",
    "\telif n == 1:\n",
    "\t\treturn 0\n",
    "\telif n == 2:\n",
    "\t\treturn 1\n",
    "\telse:\n",
    "\t\treturn Fibonacci(n-1)+Fibonacci(n-2)\n",
    "print(Fibonacci(5))"
   ]
  },
  {
   "cell_type": "code",
   "execution_count": 26,
   "id": "2e5c2a4c-edd7-4413-96a6-373de123f11b",
   "metadata": {},
   "outputs": [
    {
     "name": "stdout",
     "output_type": "stream",
     "text": [
      "<class 'tuple'>\n",
      "<class 'str'>\n"
     ]
    }
   ],
   "source": [
    "mytuple = (\"Pwskills\",)\n",
    "print(type(mytuple))\n",
    "mytuple = (\"Pwskills\")\n",
    "print(type(mytuple))"
   ]
  },
  {
   "cell_type": "code",
   "execution_count": 28,
   "id": "8d84e86e-1cde-43c2-a456-a05fe714596d",
   "metadata": {},
   "outputs": [
    {
     "name": "stdout",
     "output_type": "stream",
     "text": [
      "The original list is : [(3, 4), (6, 5), (7, 8)]\n",
      "The swapped tuple list is : [(4, 3), (5, 6), (8, 7)]\n"
     ]
    }
   ],
   "source": [
    "test_list = [(3, 4), (6, 5), (7, 8)]\n",
    "print(\"The original list is : \" + str(test_list))\n",
    "res = [(sub[1], sub[0]) for sub in test_list]\n",
    "print(\"The swapped tuple list is : \" + str(res))"
   ]
  },
  {
   "cell_type": "code",
   "execution_count": 29,
   "id": "10e510be-83dc-413b-8261-8a069ab7944e",
   "metadata": {},
   "outputs": [
    {
     "name": "stdout",
     "output_type": "stream",
     "text": [
      "(5, 4, 3, 2, 1)\n"
     ]
    }
   ],
   "source": [
    "tup =(1,2,3,4,5)\n",
    "print(tup[::-1])"
   ]
  },
  {
   "cell_type": "code",
   "execution_count": 32,
   "id": "8d2b6072-4d00-4266-8322-610062dd6700",
   "metadata": {},
   "outputs": [
    {
     "name": "stdout",
     "output_type": "stream",
     "text": [
      "Enter the Total Number of Terms: \n"
     ]
    },
    {
     "name": "stdin",
     "output_type": "stream",
     "text": [
      " 2\n"
     ]
    },
    {
     "name": "stdout",
     "output_type": "stream",
     "text": [
      "2 raised to the power  0  is  1\n",
      "2 raised to the power  1  is  2\n"
     ]
    }
   ],
   "source": [
    "print(\"Enter the Total Number of Terms: \")\n",
    "tot = int(input())\n",
    "\n",
    "for i in range(tot):\n",
    "    print(\"2 raised to the power \", i, \" is \", 2 ** i)"
   ]
  },
  {
   "cell_type": "code",
   "execution_count": 33,
   "id": "9afd7e0d-476d-49b6-8d27-587f6e68d877",
   "metadata": {},
   "outputs": [
    {
     "name": "stdout",
     "output_type": "stream",
     "text": [
      "The original list : ['p', 'w', 'skills']\n",
      "Maximum length string is : skills\n"
     ]
    }
   ],
   "source": [
    "test_list = ['p' , 'w' , 'skills']\n",
    "print(\"The original list : \" + str(test_list))\n",
    "max_len = -1\n",
    "for ele in test_list:\n",
    "\tif len(ele) > max_len:\n",
    "\t\tmax_len = len(ele)\n",
    "\t\tres = ele\n",
    "print(\"Maximum length string is : \" + res)"
   ]
  },
  {
   "cell_type": "code",
   "execution_count": 34,
   "id": "dc6b3d89-e4e9-4e91-b7d6-752f0315d9f7",
   "metadata": {},
   "outputs": [
    {
     "name": "stdout",
     "output_type": "stream",
     "text": [
      "The original list : ['gfg', 'is', 'best']\n",
      "Length of minimum string is : 2\n"
     ]
    }
   ],
   "source": [
    "test_list = ['gfg', 'is', 'best']\n",
    "print(\"The original list : \" + str(test_list))\n",
    "res = min(len(ele) for ele in test_list)\n",
    "print(\"Length of minimum string is : \" + str(res))"
   ]
  },
  {
   "cell_type": "code",
   "execution_count": 35,
   "id": "2be2c536-52ab-4109-8dc4-355d0b2ebd4d",
   "metadata": {},
   "outputs": [
    {
     "name": "stdout",
     "output_type": "stream",
     "text": [
      "The number is a triangular number\n"
     ]
    }
   ],
   "source": [
    "def isTriangular(num):\n",
    "\tif (num < 0):\n",
    "\t\treturn False\n",
    "\tsum, n = 0, 1\n",
    "\twhile(sum <= num):\n",
    "\t\tsum = sum + n\n",
    "\t\tif (sum == num):\n",
    "\t\t\treturn True\n",
    "\t\tn += 1\n",
    "\treturn False\n",
    "n = 55\n",
    "if (isTriangular(n)):\n",
    "\tprint(\"The number is a triangular number\")\n",
    "else:\n",
    "\tprint(\"The number is NOT a triangular number\")"
   ]
  },
  {
   "cell_type": "code",
   "execution_count": 36,
   "id": "d599e887-0ec4-4c6a-b487-9f17e1169662",
   "metadata": {},
   "outputs": [
    {
     "name": "stdout",
     "output_type": "stream",
     "text": [
      "The original tuple 1 : (10, 4, 5, 6)\n",
      "The original tuple 2 : (5, 10)\n",
      "Is 2nd tuple subset of 1st ? : True\n"
     ]
    }
   ],
   "source": [
    "test_tup1 = (10, 4, 5, 6)\n",
    "test_tup2 = (5, 10)\n",
    "print(\"The original tuple 1 : \" + str(test_tup1))\n",
    "print(\"The original tuple 2 : \" + str(test_tup2))\n",
    "res = set(test_tup2).issubset(test_tup1)\n",
    "print(\"Is 2nd tuple subset of 1st ? : \" + str(res))"
   ]
  },
  {
   "cell_type": "code",
   "execution_count": 2,
   "id": "1b4f1730-de72-45a5-a57d-c258c749e274",
   "metadata": {},
   "outputs": [
    {
     "name": "stdout",
     "output_type": "stream",
     "text": [
      "The list after initializing : [1, 1, 1, 1, 0, 0, 0, 1, 1, 1, 1, 0, 0, 0]\n"
     ]
    }
   ],
   "source": [
    "count_1 = 4\n",
    "count_0 = 3\n",
    "size = 14\n",
    "test_list = [1 if i % (count_1 + count_0) < count_1\n",
    "\t\t\telse 0 for i in range(size)]\n",
    "print(\"The list after initializing : \" + str(test_list))"
   ]
  },
  {
   "cell_type": "code",
   "execution_count": 1,
   "id": "9f766e84-b872-4628-82dc-f09ec1a0b665",
   "metadata": {},
   "outputs": [
    {
     "name": "stdout",
     "output_type": "stream",
     "text": [
      "{1, 2, 3, 4, 5}\n"
     ]
    },
    {
     "data": {
      "text/plain": [
       "set"
      ]
     },
     "execution_count": 1,
     "metadata": {},
     "output_type": "execute_result"
    }
   ],
   "source": [
    "s = {1,2,3,4,5}\n",
    "print(s)\n",
    "type(s)"
   ]
  },
  {
   "cell_type": "code",
   "execution_count": 6,
   "id": "fa53855e-814a-4124-a38e-f7553748c206",
   "metadata": {},
   "outputs": [
    {
     "name": "stdout",
     "output_type": "stream",
     "text": [
      "Letters are: {0, 1, 4, 6}\n",
      "Letters are: {0, 1, 4, 6}\n"
     ]
    }
   ],
   "source": [
    "s = {6, 0, 4}\n",
    "s.add(1)\n",
    "print('Letters are:', s)\n",
    "s.add(0)\n",
    "print('Letters are:', s)"
   ]
  },
  {
   "cell_type": "code",
   "execution_count": 7,
   "id": "00db384b-1bed-4909-a585-405bf0a3561b",
   "metadata": {},
   "outputs": [
    {
     "name": "stdout",
     "output_type": "stream",
     "text": [
      "{'Java', 'Python'}\n"
     ]
    }
   ],
   "source": [
    "languages = {'Python', 'Java', 'English'}\n",
    "languages.remove('English')\n",
    "print(languages)"
   ]
  },
  {
   "cell_type": "code",
   "execution_count": 8,
   "id": "a9ea5a26-b93e-47d4-ad3f-cf57f982bbcb",
   "metadata": {},
   "outputs": [
    {
     "name": "stdout",
     "output_type": "stream",
     "text": [
      "True\n",
      "True\n",
      "False\n"
     ]
    }
   ],
   "source": [
    "import random\n",
    "data = {7058, 7059, 7072, 7074, 7076}\n",
    "print(7058 in data)\n",
    "print(7059 in data)\n",
    "print(7071 in data)"
   ]
  },
  {
   "cell_type": "code",
   "execution_count": 9,
   "id": "b8b882e6-a637-4c75-9c6d-3c225f3a2ff8",
   "metadata": {},
   "outputs": [
    {
     "name": "stdout",
     "output_type": "stream",
     "text": [
      "5\n"
     ]
    }
   ],
   "source": [
    "string = 'Hello'\n",
    "count = 0\n",
    "for i in string:\n",
    "    count+=1\n",
    "print(count)"
   ]
  },
  {
   "cell_type": "code",
   "execution_count": 10,
   "id": "e40ee7b0-547d-42bc-ace7-13b4208958d1",
   "metadata": {},
   "outputs": [
    {
     "name": "stdout",
     "output_type": "stream",
     "text": [
      "The original set is : {2, 4, 6, 7, 9}\n",
      "Set after removal : {9, 6, 7}\n"
     ]
    }
   ],
   "source": [
    "test_set = {6, 4, 2, 7, 9}\n",
    "print(\"The original set is : \" + str(test_set))\n",
    "rem_ele = [2, 4, 8]\n",
    "res = test_set - set(rem_ele)\n",
    "print(\"Set after removal : \" + str(res))"
   ]
  },
  {
   "cell_type": "code",
   "execution_count": 18,
   "id": "577132dc-f1d2-4bd2-87d6-77e1fc78cd7f",
   "metadata": {},
   "outputs": [
    {
     "name": "stdout",
     "output_type": "stream",
     "text": [
      "Even Set Items =  {64, 66, 35, 19, 26, 78, 15}\n",
      "\n",
      "The Even Numbers in this evSet Set are:\n",
      "64  66  26  78  "
     ]
    }
   ],
   "source": [
    "evSet = {15, 26, 19, 78, 64, 35, 66}\n",
    "print(\"Even Set Items = \", evSet)\n",
    "\n",
    "print(\"\\nThe Even Numbers in this evSet Set are:\")\n",
    "for val in evSet:\n",
    "    if(val % 2 == 0):\n",
    "        print(val, end = \"  \")"
   ]
  },
  {
   "cell_type": "code",
   "execution_count": 19,
   "id": "18f124a2-9fd2-42e8-bc61-6f4f874cdbc3",
   "metadata": {},
   "outputs": [
    {
     "name": "stdout",
     "output_type": "stream",
     "text": [
      "Odd Set Items =  {33, 35, 8, 41, 12, 17, 19, 26}\n",
      "\n",
      "The Odd Numbers in this oddSet Set are:\n",
      "33  35  41  17  19  "
     ]
    }
   ],
   "source": [
    "oddSet = {26, 33, 19, 8, 41, 35, 12, 17}\n",
    "print(\"Odd Set Items = \", oddSet)\n",
    "\n",
    "print(\"\\nThe Odd Numbers in this oddSet Set are:\")\n",
    "for odval in oddSet:\n",
    "    if(odval % 2 != 0):\n",
    "        print(odval, end = \"  \")"
   ]
  },
  {
   "cell_type": "code",
   "execution_count": 20,
   "id": "4158cfb3-b24b-4430-86e7-192310ce7cf8",
   "metadata": {},
   "outputs": [
    {
     "name": "stdout",
     "output_type": "stream",
     "text": [
      "A U B =  {1, 2, 3, 5}\n"
     ]
    }
   ],
   "source": [
    "A = {2, 3, 5}\n",
    "B = {1, 3, 5}\n",
    "print('A U B = ', A.union(B))"
   ]
  },
  {
   "cell_type": "code",
   "execution_count": 21,
   "id": "add9540d-0df9-4af0-a953-8a4acc3bacbe",
   "metadata": {},
   "outputs": [
    {
     "name": "stdout",
     "output_type": "stream",
     "text": [
      "{'apple'}\n"
     ]
    }
   ],
   "source": [
    "x = {\"apple\", \"banana\", \"cherry\"}\n",
    "y = {\"google\", \"microsoft\", \"apple\"}\n",
    "z = x.intersection(y)\n",
    "print(z)"
   ]
  },
  {
   "cell_type": "code",
   "execution_count": 22,
   "id": "8f8471b8-00bc-4188-a9ba-65f63c75207d",
   "metadata": {},
   "outputs": [
    {
     "name": "stdout",
     "output_type": "stream",
     "text": [
      "{10, 20}\n",
      "{100, 60}\n"
     ]
    }
   ],
   "source": [
    "A = {10, 20, 30, 40, 80}\n",
    "B = {100, 30, 80, 40, 60}\n",
    "print (A.difference(B))\n",
    "print (B.difference(A))"
   ]
  },
  {
   "cell_type": "code",
   "execution_count": 23,
   "id": "668d00a7-39ce-4422-8755-c812d5483d9d",
   "metadata": {},
   "outputs": [
    {
     "name": "stdout",
     "output_type": "stream",
     "text": [
      "True\n"
     ]
    }
   ],
   "source": [
    "A = {1, 2, 3}\n",
    "B = {1, 2, 3, 4, 5}\n",
    "print(A.issubset(B))"
   ]
  },
  {
   "cell_type": "code",
   "execution_count": 24,
   "id": "6397bb62-238d-46ec-8134-7a3cf0d75316",
   "metadata": {},
   "outputs": [
    {
     "name": "stdout",
     "output_type": "stream",
     "text": [
      "True\n",
      "False\n",
      "True\n"
     ]
    }
   ],
   "source": [
    "A = {1, 2, 3, 4, 5}\n",
    "B = {1, 2, 3}\n",
    "C = {1, 2, 3}\n",
    "print(A.issuperset(B))\n",
    "print(B.issuperset(A))\n",
    "print(C.issuperset(B))"
   ]
  },
  {
   "cell_type": "code",
   "execution_count": 25,
   "id": "51cb5e6d-1e2f-459c-a7ba-4cb7cadecd1e",
   "metadata": {},
   "outputs": [
    {
     "name": "stdout",
     "output_type": "stream",
     "text": [
      "{1, 2, 3, 4, 5}\n"
     ]
    }
   ],
   "source": [
    "my_list = [1 ,2 ,3, 3, 4, 5, 5]\n",
    "my_set = set() \n",
    "for num in my_list:\n",
    "    my_set.add(num)\n",
    "print(my_set)"
   ]
  },
  {
   "cell_type": "code",
   "execution_count": 26,
   "id": "8bb83d36-0bae-4ff2-b2cf-3225065f6a6b",
   "metadata": {},
   "outputs": [
    {
     "name": "stdout",
     "output_type": "stream",
     "text": [
      "<class 'set'>\n",
      "<class 'list'>\n"
     ]
    }
   ],
   "source": [
    "my_set = {'p', 'w', 'skills'}\n",
    "print(type(my_set))\n",
    "s = list(my_set)\n",
    "print(type(s))"
   ]
  },
  {
   "cell_type": "code",
   "execution_count": 27,
   "id": "d473a72c-ccf1-45d5-aa1d-34a3f65f1790",
   "metadata": {},
   "outputs": [
    {
     "name": "stdout",
     "output_type": "stream",
     "text": [
      "The original list : [6, 4, 8, 9, 10]\n",
      "List after removal of random number : [6, 4, 8, 9]\n"
     ]
    }
   ],
   "source": [
    "import random\n",
    "test_list = [6, 4, 8, 9, 10]\n",
    "print(\"The original list : \" + str(test_list))\n",
    "test_list.pop(random.randrange(len(test_list)))\n",
    "print(\"List after removal of random number : \" + str(test_list))"
   ]
  },
  {
   "cell_type": "code",
   "execution_count": 28,
   "id": "d39e43d5-c2a3-431a-8485-c559e4a47d33",
   "metadata": {},
   "outputs": [
    {
     "name": "stdout",
     "output_type": "stream",
     "text": [
      "{'banana', 'cherry'}\n"
     ]
    }
   ],
   "source": [
    "fruits = {\"apple\", \"banana\", \"cherry\"}\n",
    "\n",
    "fruits.pop()\n",
    "\n",
    "print(fruits)"
   ]
  },
  {
   "cell_type": "code",
   "execution_count": 29,
   "id": "e7e587e8-9847-4c1d-97ef-7260fee6b861",
   "metadata": {},
   "outputs": [
    {
     "name": "stdout",
     "output_type": "stream",
     "text": [
      "True\n",
      "False\n"
     ]
    }
   ],
   "source": [
    "def common_member(a, b):\n",
    "\ta_set = set(a)\n",
    "\tb_set = set(b)\n",
    "\tif len(a_set.intersection(b_set)) > 0:\n",
    "\t\treturn(True)\n",
    "\treturn(False)\n",
    "a = [1, 2, 3, 4, 5]\n",
    "b = [5, 6, 7, 8, 9]\n",
    "print(common_member(a, b))\n",
    "a =[1, 2, 3, 4, 5]\n",
    "b =[6, 7, 8, 9]\n",
    "print(common_member(a, b))"
   ]
  },
  {
   "cell_type": "code",
   "execution_count": 30,
   "id": "01aaac1b-0d8f-4d83-8e82-d79fd8ff3da3",
   "metadata": {},
   "outputs": [
    {
     "name": "stdout",
     "output_type": "stream",
     "text": [
      "{'l', 'a', 'e', 'y'}\n",
      "{'l', 'a', 'e', 'y'}\n",
      "{'l', 's', 'i', 'a'}\n",
      "{'e', 's', 'y', 'i'}\n"
     ]
    }
   ],
   "source": [
    "x = {'a', 'l', 'l', 'i', 's'}\n",
    "y = {'e', 'i', 'e', 's', 'y'}\n",
    "o = {}\n",
    "print(x.symmetric_difference(y))\n",
    "print(y.symmetric_difference(x))\n",
    "\n",
    "print(x.symmetric_difference(o))\n",
    "print(y.symmetric_difference(o))"
   ]
  },
  {
   "cell_type": "code",
   "execution_count": 31,
   "id": "3dbf63db-5041-4f35-b1b2-7ea4d770d42f",
   "metadata": {},
   "outputs": [
    {
     "name": "stdout",
     "output_type": "stream",
     "text": [
      "{'microsoft', 'google', 'cherry', 'apple', 'banana'}\n"
     ]
    }
   ],
   "source": [
    "x = {\"apple\", \"banana\", \"cherry\"}\n",
    "y = {\"google\", \"microsoft\", \"apple\"}\n",
    "\n",
    "x.update(y)\n",
    "\n",
    "print(x)"
   ]
  },
  {
   "cell_type": "code",
   "execution_count": 32,
   "id": "c50ec47b-2f0b-4f7c-9619-b63de1c731f0",
   "metadata": {},
   "outputs": [
    {
     "name": "stdout",
     "output_type": "stream",
     "text": [
      "False\n"
     ]
    }
   ],
   "source": [
    "name={\"karan\",\"kunnal\",\"aditi\",\"janshna\"}\n",
    "rollno={1,2,3,4,5}\n",
    "print(name==rollno)"
   ]
  },
  {
   "cell_type": "code",
   "execution_count": 35,
   "id": "7e7dcb50-d15d-42bd-9ab7-b82fa2417b4a",
   "metadata": {},
   "outputs": [
    {
     "name": "stdout",
     "output_type": "stream",
     "text": [
      "True\n",
      "False\n"
     ]
    }
   ],
   "source": [
    "animals = frozenset([\"cat\", \"dog\", \"lion\"])\n",
    "print(\"cat\" in animals)\n",
    "print(\"elephant\" in animals)\n"
   ]
  },
  {
   "cell_type": "code",
   "execution_count": 36,
   "id": "8428f005-4ef7-496c-97a7-a711e5297190",
   "metadata": {},
   "outputs": [
    {
     "name": "stdout",
     "output_type": "stream",
     "text": [
      "yes\n"
     ]
    }
   ],
   "source": [
    "def areDisjoint(set1, set2, m, n):\n",
    "\tfor i in range(0, m):\n",
    "\t\tfor j in range(0, n):\n",
    "\t\t\tif (set1[i] == set2[j]):\n",
    "\t\t\t\treturn False\n",
    "\treturn True\n",
    "set1 = [12, 34, 11, 9, 3]\n",
    "set2 = [7, 2, 1, 5]\n",
    "m = len(set1)\n",
    "n = len(set2)\n",
    "print(\"yes\") if areDisjoint(set1, set2, m, n) else(\" No\")"
   ]
  },
  {
   "cell_type": "code",
   "execution_count": 37,
   "id": "69318d76-200f-4b88-b471-d56f06a01093",
   "metadata": {},
   "outputs": [
    {
     "name": "stdout",
     "output_type": "stream",
     "text": [
      "55\n"
     ]
    }
   ],
   "source": [
    "def squaresum(n):\n",
    "\tsm = 0\n",
    "\tfor i in range(1, n+1):\n",
    "\t\tsm = sm + (i * i)\n",
    "\treturn sm\n",
    "n = 5\n",
    "print(squaresum(n))"
   ]
  },
  {
   "cell_type": "code",
   "execution_count": 38,
   "id": "2a1ab3ec-06d9-4fcb-ae7f-1badcfbc5cfb",
   "metadata": {},
   "outputs": [
    {
     "name": "stdout",
     "output_type": "stream",
     "text": [
      "[2, 4]\n"
     ]
    }
   ],
   "source": [
    "lis = [1, 2, 3, 4, 5]\n",
    "out = []\n",
    "for num in lis:\n",
    "\tif num % 2 == 0:\n",
    "\t\tout.append(num)\n",
    "print(out)"
   ]
  },
  {
   "cell_type": "code",
   "execution_count": 39,
   "id": "887f85ac-dfe7-41a9-a3c3-e225c0713ab9",
   "metadata": {},
   "outputs": [
    {
     "name": "stdout",
     "output_type": "stream",
     "text": [
      "6\n",
      "24\n"
     ]
    }
   ],
   "source": [
    "def multiplyList(myList):\n",
    "\tresult = 1\n",
    "\tfor x in myList:\n",
    "\t\tresult = result * x\n",
    "\treturn result\n",
    "list1 = [1, 2, 3]\n",
    "list2 = [3, 2, 4]\n",
    "print(multiplyList(list1))\n",
    "print(multiplyList(list2))"
   ]
  },
  {
   "cell_type": "code",
   "execution_count": 40,
   "id": "ebe92a8d-0cea-4b7d-a1be-dfd26f1246d1",
   "metadata": {},
   "outputs": [
    {
     "name": "stdout",
     "output_type": "stream",
     "text": [
      "[5, 5, 5, 5, 7, 5, 9, 6, 7, 6]\n"
     ]
    }
   ],
   "source": [
    "import random\n",
    "\n",
    "rand_list=[]\n",
    "n=10\n",
    "for i in range(n):\n",
    "\trand_list.append(random.randint(3,9))\n",
    "print(rand_list)\n"
   ]
  },
  {
   "cell_type": "code",
   "execution_count": 41,
   "id": "5f054156-3437-4ad0-8e46-ff484a7c0bf5",
   "metadata": {},
   "outputs": [
    {
     "name": "stdout",
     "output_type": "stream",
     "text": [
      "Set is empty\n"
     ]
    }
   ],
   "source": [
    "if __name__ == '__main__':\n",
    " \n",
    "    s = set()\n",
    " \n",
    "    isEmpty = (len(s) == 0)\n",
    " \n",
    "    if isEmpty:\n",
    "        print(\"Set is empty\")\n",
    "    else:\n",
    "        print(\"Set is not empty\")"
   ]
  },
  {
   "cell_type": "code",
   "execution_count": 42,
   "id": "c5203e95-7fe3-40f7-9792-b3b6e2166cc9",
   "metadata": {},
   "outputs": [
    {
     "name": "stdout",
     "output_type": "stream",
     "text": [
      "True\n",
      "False\n"
     ]
    }
   ],
   "source": [
    "animals = frozenset([\"cat\", \"dog\", \"lion\"])\n",
    "print(\"cat\" in animals)\n",
    "print(\"elephant\" in animals)\n"
   ]
  },
  {
   "cell_type": "code",
   "execution_count": 43,
   "id": "6033bd5e-b9e8-4b2f-ab2f-0394890f3528",
   "metadata": {},
   "outputs": [
    {
     "name": "stdout",
     "output_type": "stream",
     "text": [
      "{41, 10, 54, 26}\n"
     ]
    }
   ],
   "source": [
    "def Remove(sets):\n",
    "\tsets.discard(20)\n",
    "\tprint (sets)\n",
    "sets = set([10, 20, 26, 41, 54, 20])\n",
    "Remove(sets)"
   ]
  },
  {
   "cell_type": "code",
   "execution_count": 44,
   "id": "2f6b9b34-ca8d-4dbf-8863-d01f412adbe2",
   "metadata": {},
   "outputs": [
    {
     "name": "stdout",
     "output_type": "stream",
     "text": [
      "{10, 20}\n",
      "{100, 60}\n"
     ]
    }
   ],
   "source": [
    "A = {10, 20, 30, 40, 80}\n",
    "B = {100, 30, 80, 40, 60}\n",
    "print (A.difference(B))\n",
    "print (B.difference(A))"
   ]
  },
  {
   "cell_type": "code",
   "execution_count": 46,
   "id": "29233653-0c06-4146-bef4-139ab9cacced",
   "metadata": {},
   "outputs": [
    {
     "name": "stdout",
     "output_type": "stream",
     "text": [
      "Initially\n",
      "The datatype of string : <class 'str'>\n",
      "Contents of string : pwskills\n",
      "\n",
      "After the conversion\n",
      "The datatype of string : <class 'set'>\n",
      "Contents of string :  {'l', 's', 'p', 'i', 'w', 'k'}\n"
     ]
    }
   ],
   "source": [
    "string = \"pwskills\"\n",
    "print(\"Initially\")\n",
    "print(\"The datatype of string : \" + str(type(string)))\n",
    "print(\"Contents of string : \" + string)\n",
    "string = set(string)\n",
    "print(\"\\nAfter the conversion\")\n",
    "print(\"The datatype of string : \" + str(type(string)))\n",
    "print(\"Contents of string : \", string)"
   ]
  },
  {
   "cell_type": "code",
   "execution_count": 47,
   "id": "858a9c5c-6bdd-4d7b-9c55-afd06e0cca0c",
   "metadata": {},
   "outputs": [
    {
     "name": "stdout",
     "output_type": "stream",
     "text": [
      "Modified list is:  [1, -4, 3, -6, 7]\n"
     ]
    }
   ],
   "source": [
    "lis = ['1', '-4', '3', '-6', '7']\n",
    "res = [eval(i) for i in lis]\n",
    "print(\"Modified list is: \", res)"
   ]
  },
  {
   "cell_type": "code",
   "execution_count": 48,
   "id": "93faebcb-dfa1-4075-afa8-069f2d3d96c3",
   "metadata": {},
   "outputs": [
    {
     "name": "stdout",
     "output_type": "stream",
     "text": [
      "Type of variable before conversion :  <class 'int'>\n",
      "Type After conversion :  <class 'str'>\n"
     ]
    }
   ],
   "source": [
    "num = 10\n",
    "print(\"Type of variable before conversion : \", type(num))\n",
    "converted_num = str(num)\n",
    "print(\"Type After conversion : \",type(converted_num))\n"
   ]
  },
  {
   "cell_type": "code",
   "execution_count": 49,
   "id": "961e8b3d-8c59-4299-9635-cf7afae84839",
   "metadata": {},
   "outputs": [
    {
     "name": "stdout",
     "output_type": "stream",
     "text": [
      "<class 'tuple'>   ('x', 'y', 'z')\n",
      "<class 'set'>   {'x', 'z', 'y'}\n"
     ]
    }
   ],
   "source": [
    "t = ('x', 'y', 'z')\n",
    "print(type(t), \" \", t)\n",
    "s = set(t)\n",
    "print(type(s), \" \", s)"
   ]
  },
  {
   "cell_type": "code",
   "execution_count": 50,
   "id": "df4a5999-b55f-472d-be54-a147bdfd8ae2",
   "metadata": {},
   "outputs": [
    {
     "name": "stdout",
     "output_type": "stream",
     "text": [
      "<class 'set'>   {'b', 'e', 'd', 'c', 'a'}\n",
      "<class 'tuple'>   ('b', 'e', 'd', 'c', 'a')\n"
     ]
    }
   ],
   "source": [
    "s = {'a', 'b', 'c', 'd', 'e'}\n",
    "print(type(s), \" \", s)\n",
    "t = tuple(s)\n",
    "print(type(t), \" \", t)"
   ]
  },
  {
   "cell_type": "code",
   "execution_count": 51,
   "id": "70f4f880-d2a1-4860-96f9-43c1ecf7d823",
   "metadata": {},
   "outputs": [
    {
     "name": "stdout",
     "output_type": "stream",
     "text": [
      "65\n"
     ]
    }
   ],
   "source": [
    "def MAX(sets):\n",
    "\treturn (max(sets))\n",
    "sets = set([8, 16, 24, 1, 25, 3, 10, 65, 55])\n",
    "print(MAX(sets))"
   ]
  },
  {
   "cell_type": "code",
   "execution_count": 52,
   "id": "2ab4124b-7538-497e-abfe-3b9c978d82a5",
   "metadata": {},
   "outputs": [
    {
     "name": "stdout",
     "output_type": "stream",
     "text": [
      "4\n"
     ]
    }
   ],
   "source": [
    "def MIN(sets):\n",
    "\treturn (min(sets))\n",
    "sets = set([4, 12, 10, 9, 4, 13])\n",
    "print(MIN(sets))"
   ]
  },
  {
   "cell_type": "code",
   "execution_count": 53,
   "id": "5fb988a6-6464-4e18-929a-dff7820c21ec",
   "metadata": {},
   "outputs": [
    {
     "name": "stdin",
     "output_type": "stream",
     "text": [
      "How many terms?  5\n"
     ]
    },
    {
     "name": "stdout",
     "output_type": "stream",
     "text": [
      "Fibonacci sequence:\n",
      "0\n",
      "1\n",
      "1\n",
      "2\n",
      "3\n"
     ]
    }
   ],
   "source": [
    "nterms = int(input(\"How many terms? \"))\n",
    "n1, n2 = 0, 1\n",
    "count = 0\n",
    "if nterms <= 0:\n",
    "   print(\"Please enter a positive integer\")\n",
    "elif nterms == 1:\n",
    "   print(\"Fibonacci sequence upto\",nterms,\":\")\n",
    "   print(n1)\n",
    "else:\n",
    "   print(\"Fibonacci sequence:\")\n",
    "   while count < nterms:\n",
    "       print(n1)\n",
    "       nth = n1 + n2\n",
    "       n1 = n2\n",
    "       n2 = nth\n",
    "       count += 1"
   ]
  },
  {
   "cell_type": "code",
   "execution_count": 54,
   "id": "ed0ba50f-7302-427d-ab9a-f4d61e18dff4",
   "metadata": {},
   "outputs": [
    {
     "name": "stdout",
     "output_type": "stream",
     "text": [
      "The original list is : [1, 5, 3, 6, 3, 5, 6, 1]\n",
      "The list after removing duplicates : [1, 3, 5, 6]\n"
     ]
    }
   ],
   "source": [
    "test_list = [1, 5, 3, 6, 3, 5, 6, 1]\n",
    "print (\"The original list is : \"\n",
    "\t\t+ str(test_list))\n",
    "test_list = list(set(test_list))\n",
    "print (\"The list after removing duplicates : \"\n",
    "\t\t+ str(test_list))"
   ]
  },
  {
   "cell_type": "code",
   "execution_count": 55,
   "id": "4f3b5213-df71-4dcf-80ce-0f1ff882306b",
   "metadata": {},
   "outputs": [
    {
     "name": "stdout",
     "output_type": "stream",
     "text": [
      "The first list is : [1, 2, 4, 3, 5]\n",
      "The second list is : [1, 2, 4, 3, 5]\n",
      "The lists are identical\n"
     ]
    }
   ],
   "source": [
    "test_list1 = [1, 2, 4, 3, 5]\n",
    "test_list2 = [1, 2, 4, 3, 5]\n",
    "print(\"The first list is : \" + str(test_list1))\n",
    "print(\"The second list is : \" + str(test_list2))\n",
    "test_list1.sort()\n",
    "test_list2.sort()\n",
    "if test_list1 == test_list2:\n",
    "\tprint(\"The lists are identical\")\n",
    "else:\n",
    "\tprint(\"The lists are not identical\")"
   ]
  },
  {
   "cell_type": "code",
   "execution_count": 56,
   "id": "ddfacac3-225f-47c2-b9ba-e1e541b16d8b",
   "metadata": {},
   "outputs": [
    {
     "name": "stdout",
     "output_type": "stream",
     "text": [
      "Blocks for 71307 : 0, 1, 3, 7, 9, 10, 12, 16\n",
      "\n",
      "Blocks for 1213 : 0, 2, 3, 4, 5, 7, 10\n",
      "\n",
      "Blocks for 29 : 0, 2, 3, 4\n",
      "\n",
      "Blocks for 100 : 2, 5, 6\n",
      "\n"
     ]
    }
   ],
   "source": [
    "def block(x):\n",
    "\tv = []\n",
    "\tprint (\"Blocks for %d : \" %x, end=\"\")\n",
    "\twhile (x > 0):\n",
    "\t\tv.append(int(x % 2))\n",
    "\t\tx = int(x / 2)\n",
    "\tfor i in range(0, len(v)):\n",
    "\t\tif (v[i] == 1):\n",
    "\t\t\tprint (i, end = \"\")\n",
    "\t\t\tif (i != len(v) - 1):\n",
    "\t\t\t\tprint (\", \", end = \"\")\n",
    "\tprint (\"\\n\")\n",
    "\n",
    "block(71307)\n",
    "block(1213)\n",
    "block(29)\n",
    "block(100)"
   ]
  },
  {
   "cell_type": "code",
   "execution_count": 57,
   "id": "1f3a98c8-4de4-4b3c-8d49-dcda81b20112",
   "metadata": {},
   "outputs": [
    {
     "name": "stdout",
     "output_type": "stream",
     "text": [
      "1 3 6 10 15 "
     ]
    }
   ],
   "source": [
    "def triangular_series( n ):\n",
    "\tj = 1\n",
    "\tk = 1\n",
    "\tfor i in range(1, n + 1):\n",
    "\t\tprint(k, end = ' ')\n",
    "\t\tj = j + 1\n",
    "\t\tk = k + j\n",
    "n = 5\n",
    "triangular_series(n)"
   ]
  },
  {
   "cell_type": "code",
   "execution_count": 58,
   "id": "dfe989f3-a116-4881-9d57-16b99b5538d8",
   "metadata": {},
   "outputs": [
    {
     "name": "stdout",
     "output_type": "stream",
     "text": [
      "The list after initializing : [1, 1, 1, 1, 0, 0, 0, 1, 1, 1, 1, 0, 0, 0]\n"
     ]
    }
   ],
   "source": [
    "count_1 = 4\n",
    "count_0 = 3\n",
    "size = 14\n",
    "test_list = [1 if i % (count_1 + count_0) < count_1\n",
    "\t\t\telse 0 for i in range(size)]\n",
    "print(\"The list after initializing : \" + str(test_list))"
   ]
  }
 ],
 "metadata": {
  "kernelspec": {
   "display_name": "Python 3 (ipykernel)",
   "language": "python",
   "name": "python3"
  },
  "language_info": {
   "codemirror_mode": {
    "name": "ipython",
    "version": 3
   },
   "file_extension": ".py",
   "mimetype": "text/x-python",
   "name": "python",
   "nbconvert_exporter": "python",
   "pygments_lexer": "ipython3",
   "version": "3.10.8"
  }
 },
 "nbformat": 4,
 "nbformat_minor": 5
}
